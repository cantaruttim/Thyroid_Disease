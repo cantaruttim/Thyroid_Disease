{
 "cells": [
  {
   "cell_type": "code",
   "execution_count": null,
   "id": "c373db91",
   "metadata": {},
   "outputs": [],
   "source": [
    "import pandas as pd\n",
    "import numpy as np\n",
    "import seaborn as sns\n",
    "from sklearn.metrics import accuracy_score, confusion_matrix, classification_report\n",
    "import matplotlib.pyplot as plt\n",
    "import plotly.express as px"
   ]
  },
  {
   "cell_type": "code",
   "execution_count": null,
   "id": "c49b625f",
   "metadata": {},
   "outputs": [],
   "source": [
    "dfT = pd.read_csv('./data/thyroidDF.csv')\n",
    "# retirando as colunas que não iremos utilizar para treinar o modelo\n",
    "dfT.drop(columns=['patient_id', 'TSH_measured', 'T3_measured', 'TT4_measured', \n",
    "                  'T4U_measured', 'FTI_measured', 'TBG', 'TBG_measured', \n",
    "                  'referral_source'], axis=1, inplace=True)"
   ]
  },
  {
   "cell_type": "markdown",
   "id": "3f461cf9",
   "metadata": {},
   "source": [
    "#### Precisamos fazer grupos que dividam a classe 'target' nos subgrupos de diagnóstico\n",
    "<br />\n",
    "1. hyperthyroid conditions:\n",
    "\n",
    "    A   hyperthyroid\n",
    "    B   T3 toxic\n",
    "    C   toxic goitre\n",
    "    D   secondary toxic\n",
    "    \n",
    "<br />\n",
    "2. hypothyroid conditions:\n",
    "\n",
    "    E   hypothyroid\n",
    "    F   primary hypothyroid\n",
    "    G   compensated hypothyroid\n",
    "    H   secondary hypothyroid\n",
    "\n",
    "<br />\n",
    "\n",
    "##### Nós fizemos isso com esse código no início do entendimento do dataset\n",
    "\n",
    "<br />\n",
    "\n",
    "```\n",
    "\n",
    "diagnoses = {'-': 'negative',\n",
    "             'A': 'hyperthyroid', \n",
    "             'B': 'hyperthyroid', \n",
    "             'C': 'hyperthyroid', \n",
    "             'D': 'hyperthyroid',\n",
    "             'E': 'hypothyroid', \n",
    "             'F': 'hypothyroid', \n",
    "             'G': 'hypothyroid', \n",
    "             'H': 'hypothyroid'}\n",
    "\n",
    "dfT['target'] = dfT['target'].map(diagnoses) # re-mapping\n",
    "# dropping observations with 'target' null after re-mapping\n",
    "dfT.dropna(subset=['target'], inplace=True)\n",
    "\n",
    "```\n"
   ]
  },
  {
   "cell_type": "code",
   "execution_count": null,
   "id": "1ffef6da",
   "metadata": {},
   "outputs": [],
   "source": [
    "dfT.info()"
   ]
  },
  {
   "cell_type": "code",
   "execution_count": null,
   "id": "e55a234e",
   "metadata": {},
   "outputs": [],
   "source": [
    "# porcentagem de linhas vazias que sobraram depois de termos retirados algumas colunas\n",
    "\n",
    "(dfT.isnull().sum() / 9172) * 100"
   ]
  },
  {
   "cell_type": "code",
   "execution_count": null,
   "id": "a21d48ad",
   "metadata": {},
   "outputs": [],
   "source": [
    "diagnoses = {'-': 'negative',\n",
    "             'A': 'hyperthyroid', \n",
    "             'B': 'hyperthyroid', \n",
    "             'C': 'hyperthyroid', \n",
    "             'D': 'hyperthyroid',\n",
    "             'E': 'hypothyroid', \n",
    "             'F': 'hypothyroid', \n",
    "             'G': 'hypothyroid', \n",
    "             'H': 'hypothyroid'}\n",
    "\n",
    "dfT['target'] = dfT['target'].map(diagnoses) # re-mapping\n",
    "# dropping observations with 'target' null after re-mapping\n",
    "dfT.dropna(subset=['target'], inplace=True)"
   ]
  },
  {
   "cell_type": "code",
   "execution_count": null,
   "id": "418b1f07",
   "metadata": {},
   "outputs": [],
   "source": [
    "dfT.head()"
   ]
  },
  {
   "cell_type": "code",
   "execution_count": null,
   "id": "16791625",
   "metadata": {},
   "outputs": [],
   "source": [
    "dfT.tail()"
   ]
  },
  {
   "cell_type": "code",
   "execution_count": null,
   "id": "b7b02727",
   "metadata": {},
   "outputs": [],
   "source": [
    "#dfT['age'].max()"
   ]
  },
  {
   "cell_type": "code",
   "execution_count": null,
   "id": "69f67dd7",
   "metadata": {},
   "outputs": [],
   "source": [
    "dfT.describe()\n"
   ]
  },
  {
   "cell_type": "code",
   "execution_count": null,
   "id": "7d8ab717",
   "metadata": {},
   "outputs": [],
   "source": [
    "f, ax = plt.subplots(figsize=(10, 8))\n",
    "sns.heatmap(dfT.corr(), annot=True, cmap=\"magma\");"
   ]
  },
  {
   "cell_type": "code",
   "execution_count": null,
   "id": "ba2aefca",
   "metadata": {},
   "outputs": [],
   "source": [
    "dfT.shape, dfT.columns\n",
    "\n",
    "# indices que são numéricos\n",
    "# 0 17 19 21 23 25 27"
   ]
  },
  {
   "cell_type": "code",
   "execution_count": null,
   "id": "0b734655",
   "metadata": {},
   "outputs": [],
   "source": [
    "# Esse valor tem os dados desbalanceados devido uma quantidade de NaN presente\n",
    "# E por termos valores vazios no dataset\n",
    "\n",
    "dfT.mean()"
   ]
  },
  {
   "cell_type": "code",
   "execution_count": null,
   "id": "a510fe31",
   "metadata": {},
   "outputs": [],
   "source": [
    "#sns.histplot(x=dfT['TBG'], y=dfT['T4U'], kde=True, color='darkblue');"
   ]
  },
  {
   "cell_type": "code",
   "execution_count": null,
   "id": "47ef7c2a",
   "metadata": {},
   "outputs": [],
   "source": [
    "sns.lmplot(data=dfT,\n",
    "          x='TT4', y='FTI',\n",
    "           hue='sex');"
   ]
  },
  {
   "cell_type": "code",
   "execution_count": null,
   "id": "8e34aa32",
   "metadata": {},
   "outputs": [],
   "source": [
    "sns.lmplot(data=dfT,\n",
    "          x='TSH', y='FTI');"
   ]
  },
  {
   "cell_type": "code",
   "execution_count": null,
   "id": "eaa2b8b5",
   "metadata": {},
   "outputs": [],
   "source": [
    "sns.scatterplot(data=dfT, x='T4U', y='TT4', s=5, hue='sex')"
   ]
  },
  {
   "cell_type": "code",
   "execution_count": null,
   "id": "ad3fcdc2",
   "metadata": {},
   "outputs": [],
   "source": [
    "sns.scatterplot(data=dfT, x='T4U', y='TSH', s=5, hue='sex')"
   ]
  },
  {
   "cell_type": "code",
   "execution_count": null,
   "id": "6edb374e",
   "metadata": {},
   "outputs": [],
   "source": [
    "sns.countplot(dfT['age'], palette='mako');\n",
    "# dfT[dfT['age'] <= 0] >>>> sem idades negativas"
   ]
  },
  {
   "cell_type": "code",
   "execution_count": null,
   "id": "5e6b7a32",
   "metadata": {},
   "outputs": [],
   "source": [
    "# Pessoas com mais de 100 anos de idade apresentam valor de diagnóstico 'negativo'\n",
    "dfT[dfT['age'] >= 100]"
   ]
  },
  {
   "cell_type": "code",
   "execution_count": null,
   "id": "932fbdcb",
   "metadata": {},
   "outputs": [],
   "source": [
    "# changing age of observations with ('age' > 100) to null\n",
    "# dfT['age'] = np.where((dfT.age > 100), np.nan, dfT.age)\n",
    "# dfT[dfT['age'] >= 100]"
   ]
  },
  {
   "cell_type": "code",
   "execution_count": null,
   "id": "e89dd89d",
   "metadata": {},
   "outputs": [],
   "source": [
    "# setting up grid for multiple seaborn plots\n",
    "fig, axes = plt.subplots(3,2,figsize=(20,16))\n",
    "fig.suptitle('Numerical Attributes vs. Target', color='white')\n",
    "sns.set_style('whitegrid');\n",
    "\n",
    "# TSH vs. 'target'\n",
    "sns.stripplot(x=dfT.target, y=dfT.TSH, linewidth=0.6, jitter= 0.3, ax=axes[0, 0])\n",
    "\n",
    "# T3 vs. 'target'\n",
    "sns.stripplot(x=dfT.target, y=dfT.T3, linewidth=0.6, jitter= 0.3, ax=axes[0, 1])\n",
    "\n",
    "# TT4 vs. 'target'\n",
    "sns.stripplot(x=dfT.target, y=dfT.TT4, linewidth=0.6, jitter= 0.3, ax=axes[1, 0])\n",
    "\n",
    "# T4U vs. 'target'\n",
    "sns.stripplot(x=dfT.target, y=dfT.T4U, linewidth=0.6, jitter= 0.3, ax=axes[1, 1])\n",
    "\n",
    "# FTI vs. 'target'\n",
    "sns.stripplot(x=dfT.target, y=dfT.FTI, linewidth=0.6, jitter= 0.3, ax=axes[2, 0])\n",
    "\n",
    "# TBG vs. 'target'\n",
    "# sns.stripplot(x=dfT.target, y=dfT.TBG, linewidth=0.6, jitter= 0.3, ax=axes[2, 1])"
   ]
  },
  {
   "cell_type": "code",
   "execution_count": null,
   "id": "0e3b4588",
   "metadata": {},
   "outputs": [],
   "source": [
    "numericalDF = dfT[['age', 'TSH', 'T3', 'TT4', 'T4U', 'FTI', 'target']].copy()\n",
    "sns.set_style('whitegrid');\n",
    "sns.pairplot(numericalDF, hue='target', height=3);\n",
    "plt.show()"
   ]
  },
  {
   "cell_type": "code",
   "execution_count": null,
   "id": "56173ff6",
   "metadata": {},
   "outputs": [],
   "source": [
    "dfT.loc[dfT['age'] < 0]"
   ]
  },
  {
   "cell_type": "code",
   "execution_count": null,
   "id": "c1310f7b",
   "metadata": {},
   "outputs": [],
   "source": [
    "dfT.loc[dfT['T3'].isnull()]"
   ]
  },
  {
   "cell_type": "code",
   "execution_count": null,
   "id": "08ab4892",
   "metadata": {},
   "outputs": [],
   "source": [
    "dfT = dfT.select_dtypes(include='object')\n",
    "dfT['sex'] = dfT['sex'].map({'F' : 0, 'M' : 1})\n",
    "# to get all the columns except the sex & target\n",
    "cols = dfT.loc[:, ~dfT.columns.isin(['sex','target','referral_source'])] \n",
    "\n",
    "for c in cols:\n",
    "    dfT[c] = dfT[c].map({'f' : 0, 't' : 1})"
   ]
  },
  {
   "cell_type": "code",
   "execution_count": null,
   "id": "2b5b92f2",
   "metadata": {},
   "outputs": [],
   "source": [
    "dfT"
   ]
  },
  {
   "cell_type": "code",
   "execution_count": null,
   "id": "54ea0302",
   "metadata": {},
   "outputs": [],
   "source": [
    "dfT.isnull().sum()"
   ]
  },
  {
   "cell_type": "code",
   "execution_count": null,
   "id": "d77269f4",
   "metadata": {},
   "outputs": [],
   "source": [
    "# dataset bem desbalanceado\n",
    "sns.countplot(x=dfT['query_on_thyroxine'])"
   ]
  },
  {
   "cell_type": "code",
   "execution_count": null,
   "id": "69245812",
   "metadata": {},
   "outputs": [],
   "source": [
    "X = dfT.iloc[:, 0:15].values\n",
    "X"
   ]
  },
  {
   "cell_type": "code",
   "execution_count": null,
   "id": "6d3f7af7",
   "metadata": {},
   "outputs": [],
   "source": [
    "y = dfT.iloc[:, 15].values\n",
    "y"
   ]
  },
  {
   "cell_type": "markdown",
   "id": "93dfedcc",
   "metadata": {},
   "source": [
    "### Treinando os modelos"
   ]
  },
  {
   "cell_type": "code",
   "execution_count": null,
   "id": "5dd3e8a1",
   "metadata": {},
   "outputs": [],
   "source": [
    "## Dividindo a base de dados em treino e teste\n",
    "\n",
    "from sklearn.model_selection import train_test_split\n",
    "\n",
    "X_treinamento, X_teste, y_treinamento, y_teste = train_test_split(X, y, \n",
    "                                                    test_size=0.2, \n",
    "                                                    random_state=0)"
   ]
  },
  {
   "cell_type": "code",
   "execution_count": null,
   "id": "669f2a76",
   "metadata": {},
   "outputs": [],
   "source": [
    "from yellowbrick.classifier import ConfusionMatrix\n",
    "from sklearn.naive_bayes import GaussianNB\n",
    "from sklearn.tree import DecisionTreeClassifier\n",
    "from sklearn.ensemble import RandomForestClassifier\n",
    "from sklearn.neighbors import KNeighborsClassifier\n",
    "from sklearn.linear_model import LogisticRegression\n",
    "from sklearn.svm import SVC"
   ]
  },
  {
   "cell_type": "code",
   "execution_count": null,
   "id": "1c750e03",
   "metadata": {},
   "outputs": [],
   "source": [
    "naive = GaussianNB()\n",
    "naive.fit(X_treinamento, y_treinamento)\n",
    "previsoes = naive.predict(X_teste)\n"
   ]
  },
  {
   "cell_type": "code",
   "execution_count": null,
   "id": "99aa589d",
   "metadata": {},
   "outputs": [],
   "source": [
    "accuracy_score(y_teste, previsoes) * 100"
   ]
  },
  {
   "cell_type": "code",
   "execution_count": null,
   "id": "0f92c0c1",
   "metadata": {},
   "outputs": [],
   "source": [
    "confusion_matrix(y_teste, previsoes)"
   ]
  },
  {
   "cell_type": "code",
   "execution_count": null,
   "id": "90c4ad07",
   "metadata": {},
   "outputs": [],
   "source": [
    "\n",
    "cm = ConfusionMatrix(naive)\n",
    "cm.fit(X_treinamento, y_treinamento)\n",
    "cm.score(X_teste, y_teste)"
   ]
  },
  {
   "cell_type": "code",
   "execution_count": null,
   "id": "df55fcc6",
   "metadata": {},
   "outputs": [],
   "source": [
    "print(classification_report(y_teste, previsoes))"
   ]
  },
  {
   "cell_type": "markdown",
   "id": "43560c64",
   "metadata": {},
   "source": [
    "#### Árvore de Decisão"
   ]
  },
  {
   "cell_type": "code",
   "execution_count": null,
   "id": "3ef13580",
   "metadata": {},
   "outputs": [],
   "source": [
    "arvore = DecisionTreeClassifier(criterion='entropy')\n",
    "arvore.fit(X_treinamento, y_treinamento)"
   ]
  },
  {
   "cell_type": "code",
   "execution_count": null,
   "id": "08e7ad46",
   "metadata": {},
   "outputs": [],
   "source": [
    "arvore.feature_importances_"
   ]
  },
  {
   "cell_type": "code",
   "execution_count": null,
   "id": "8408bc66",
   "metadata": {},
   "outputs": [],
   "source": [
    "from sklearn import tree\n",
    "previsores = ['sex', 'on_thyroxine', 'query_on_thyroxine', 'on_antithyroid_meds', 'sick', 'pregnant',\n",
    "              'thyroid_surgery', 'I131_treatment', 'query_hypothyroid', 'query_hyperthyroid', 'lithium',\n",
    "              'goitre', 'tumor', 'hypopituitary', 'psych']\n",
    "\n",
    "figura, eixos = plt.subplots(figsize=(150,150),nrows=1, ncols=1)\n",
    "tree.plot_tree(arvore, feature_names=previsores, \n",
    "               class_names=arvore.classes_, filled=True)"
   ]
  },
  {
   "cell_type": "code",
   "execution_count": null,
   "id": "1828b222",
   "metadata": {},
   "outputs": [],
   "source": [
    "previsoesArvore = arvore.predict(X_teste)"
   ]
  },
  {
   "cell_type": "code",
   "execution_count": null,
   "id": "d9582945",
   "metadata": {},
   "outputs": [],
   "source": [
    "accuracy_score(y_teste, previsoesArvore)"
   ]
  },
  {
   "cell_type": "code",
   "execution_count": null,
   "id": "0e7d199e",
   "metadata": {},
   "outputs": [],
   "source": [
    "cm = ConfusionMatrix(arvore)\n",
    "cm.fit(X_treinamento, y_treinamento)\n",
    "cm.score(X_teste, y_teste)"
   ]
  },
  {
   "cell_type": "code",
   "execution_count": null,
   "id": "7a65530f",
   "metadata": {},
   "outputs": [],
   "source": [
    "print(classification_report(y_teste, previsoesArvore))"
   ]
  },
  {
   "cell_type": "markdown",
   "id": "471c5cd0",
   "metadata": {},
   "source": [
    "#### Random Florest"
   ]
  },
  {
   "cell_type": "code",
   "execution_count": null,
   "id": "40a68ce3",
   "metadata": {},
   "outputs": [],
   "source": [
    "random_forest = RandomForestClassifier(n_estimators=10, \n",
    "                                       criterion='entropy', \n",
    "                                       random_state = 0)\n",
    "\n",
    "random_forest.fit(X_treinamento, y_treinamento)"
   ]
  },
  {
   "cell_type": "code",
   "execution_count": null,
   "id": "9c790250",
   "metadata": {},
   "outputs": [],
   "source": [
    "previsoes_RandomFlorest = random_forest.predict(X_teste)\n"
   ]
  },
  {
   "cell_type": "code",
   "execution_count": null,
   "id": "63333e90",
   "metadata": {},
   "outputs": [],
   "source": [
    "accuracy_score(y_teste, previsoes_RandomFlorest)"
   ]
  },
  {
   "cell_type": "code",
   "execution_count": null,
   "id": "20dc4d2f",
   "metadata": {},
   "outputs": [],
   "source": [
    "cm = ConfusionMatrix(random_forest)\n",
    "cm.fit(X_treinamento, y_treinamento)\n",
    "cm.score(X_teste, y_teste)"
   ]
  },
  {
   "cell_type": "code",
   "execution_count": null,
   "id": "daab3cc0",
   "metadata": {},
   "outputs": [],
   "source": [
    "print(classification_report(y_teste, previsoes_RandomFlorest))"
   ]
  },
  {
   "cell_type": "markdown",
   "id": "9fe74dc2",
   "metadata": {},
   "source": [
    "#### kNN"
   ]
  },
  {
   "cell_type": "code",
   "execution_count": null,
   "id": "a288d6b6",
   "metadata": {},
   "outputs": [],
   "source": [
    "knn = KNeighborsClassifier(n_neighbors= 5, metric='minkowski', p = 2)\n",
    "knn.fit(X_treinamento, y_treinamento)"
   ]
  },
  {
   "cell_type": "code",
   "execution_count": null,
   "id": "9fb2544d",
   "metadata": {},
   "outputs": [],
   "source": [
    "previsoes_knn = knn.predict(X_teste)\n"
   ]
  },
  {
   "cell_type": "code",
   "execution_count": null,
   "id": "0b4eb1b2",
   "metadata": {},
   "outputs": [],
   "source": [
    "accuracy_score(y_teste, previsoes_knn)"
   ]
  },
  {
   "cell_type": "code",
   "execution_count": null,
   "id": "fe9a409c",
   "metadata": {},
   "outputs": [],
   "source": [
    "cm = ConfusionMatrix(knn)\n",
    "cm.fit(X_treinamento, y_treinamento)\n",
    "cm.score(X_teste, y_teste)"
   ]
  },
  {
   "cell_type": "code",
   "execution_count": null,
   "id": "9f9f7188",
   "metadata": {},
   "outputs": [],
   "source": [
    "print(classification_report(y_teste, previsoes_knn))"
   ]
  },
  {
   "cell_type": "markdown",
   "id": "c27503ad",
   "metadata": {},
   "source": [
    "#### Logistic Regression"
   ]
  },
  {
   "cell_type": "code",
   "execution_count": null,
   "id": "ac756b41",
   "metadata": {},
   "outputs": [],
   "source": [
    "logistic = LogisticRegression(random_state=1)\n",
    "logistic.fit(X_treinamento, y_treinamento)"
   ]
  },
  {
   "cell_type": "code",
   "execution_count": null,
   "id": "7de899a6",
   "metadata": {},
   "outputs": [],
   "source": [
    "previsoes_LogisticReg = logistic.predict(X_teste)"
   ]
  },
  {
   "cell_type": "code",
   "execution_count": null,
   "id": "21b64168",
   "metadata": {},
   "outputs": [],
   "source": [
    "accuracy_score(y_teste, previsoes_LogisticReg)"
   ]
  },
  {
   "cell_type": "code",
   "execution_count": null,
   "id": "e7a22b31",
   "metadata": {},
   "outputs": [],
   "source": [
    "cm = ConfusionMatrix(logistic)\n",
    "cm.fit(X_treinamento, y_treinamento)\n",
    "cm.score(X_teste, y_teste)"
   ]
  },
  {
   "cell_type": "markdown",
   "id": "209f0590",
   "metadata": {},
   "source": [
    "#### SVM"
   ]
  },
  {
   "cell_type": "code",
   "execution_count": null,
   "id": "41a4fa26",
   "metadata": {},
   "outputs": [],
   "source": [
    "svm = SVC(kernel='rbf', random_state=1, C = 2.0) # 2 -> 4\n",
    "svm.fit(X_treinamento, y_treinamento)"
   ]
  },
  {
   "cell_type": "code",
   "execution_count": null,
   "id": "d4b70076",
   "metadata": {},
   "outputs": [],
   "source": [
    "previsoes_svm = svm.predict(X_teste)"
   ]
  },
  {
   "cell_type": "code",
   "execution_count": null,
   "id": "f0856a4a",
   "metadata": {},
   "outputs": [],
   "source": [
    "cm = ConfusionMatrix(svm)\n",
    "cm.fit(X_treinamento, y_treinamento)\n",
    "cm.score(X_teste, y_teste)"
   ]
  },
  {
   "cell_type": "code",
   "execution_count": null,
   "id": "f7f06256",
   "metadata": {},
   "outputs": [],
   "source": [
    "print(classification_report(y_teste, previsoes_svm))"
   ]
  }
 ],
 "metadata": {
  "kernelspec": {
   "display_name": "Python 3 (ipykernel)",
   "language": "python",
   "name": "python3"
  },
  "language_info": {
   "codemirror_mode": {
    "name": "ipython",
    "version": 3
   },
   "file_extension": ".py",
   "mimetype": "text/x-python",
   "name": "python",
   "nbconvert_exporter": "python",
   "pygments_lexer": "ipython3",
   "version": "3.9.12"
  }
 },
 "nbformat": 4,
 "nbformat_minor": 5
}
