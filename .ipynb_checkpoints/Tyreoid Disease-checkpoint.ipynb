{
 "cells": [
  {
   "cell_type": "code",
   "execution_count": 1,
   "id": "c373db91",
   "metadata": {},
   "outputs": [],
   "source": [
    "import pandas as pd\n",
    "import numpy as np\n",
    "import seaborn as sns\n",
    "import matplotlib.pyplot as plt\n",
    "import plotly.express as px"
   ]
  },
  {
   "cell_type": "code",
   "execution_count": 23,
   "id": "c49b625f",
   "metadata": {},
   "outputs": [],
   "source": [
    "dfT = pd.read_csv('./data/thyroidDF.csv')\n",
    "# retirando as colunas que não iremos utilizar para treinar o modelo\n",
    "dfT.drop(columns=['patient_id', 'on_thyroxine', 'query_on_thyroxine', 'sick', 'I131_treatment',\n",
    "                 'query_hypothyroid','pregnant','query_hyperthyroid','lithium', 'goitre',\n",
    "                 'hypopituitary','psych','TSH_measured', 'T3', 'T3_measured','TT4_measured','T4U_measured',\n",
    "                  'FTI_measured', 'TBG', 'TBG_measured','referral_source'], inplace=True)"
   ]
  },
  {
   "cell_type": "code",
   "execution_count": 24,
   "id": "b8ab6b4d",
   "metadata": {},
   "outputs": [
    {
     "name": "stdout",
     "output_type": "stream",
     "text": [
      "<class 'pandas.core.frame.DataFrame'>\n",
      "RangeIndex: 9172 entries, 0 to 9171\n",
      "Data columns (total 10 columns):\n",
      " #   Column               Non-Null Count  Dtype  \n",
      "---  ------               --------------  -----  \n",
      " 0   age                  9172 non-null   int64  \n",
      " 1   sex                  8865 non-null   object \n",
      " 2   on_antithyroid_meds  9172 non-null   object \n",
      " 3   thyroid_surgery      9172 non-null   object \n",
      " 4   tumor                9172 non-null   object \n",
      " 5   TSH                  8330 non-null   float64\n",
      " 6   TT4                  8730 non-null   float64\n",
      " 7   T4U                  8363 non-null   float64\n",
      " 8   FTI                  8370 non-null   float64\n",
      " 9   target               9172 non-null   object \n",
      "dtypes: float64(4), int64(1), object(5)\n",
      "memory usage: 716.7+ KB\n"
     ]
    }
   ],
   "source": [
    "dfT.info()"
   ]
  },
  {
   "cell_type": "code",
   "execution_count": 25,
   "id": "7248333e",
   "metadata": {},
   "outputs": [
    {
     "data": {
      "text/plain": [
       "age                    0.000000\n",
       "sex                    3.347143\n",
       "on_antithyroid_meds    0.000000\n",
       "thyroid_surgery        0.000000\n",
       "tumor                  0.000000\n",
       "TSH                    9.180113\n",
       "TT4                    4.819014\n",
       "T4U                    8.820323\n",
       "FTI                    8.744003\n",
       "target                 0.000000\n",
       "dtype: float64"
      ]
     },
     "execution_count": 25,
     "metadata": {},
     "output_type": "execute_result"
    }
   ],
   "source": [
    "# porcentagem de linhas vazias que sobraram depois de termos retirados algumas colunas\n",
    "\n",
    "(dfT.isna().sum() / 9172) * 100"
   ]
  },
  {
   "cell_type": "code",
   "execution_count": 3,
   "id": "7d8ab717",
   "metadata": {},
   "outputs": [
    {
     "data": {
      "image/png": "[encoded data removed]",
      "text/plain": [
       "<Figure size 720x576 with 2 Axes>"
      ]
     },
     "metadata": {
      "needs_background": "light"
     },
     "output_type": "display_data"
    }
   ],
   "source": [
    "f, ax = plt.subplots(figsize=(10, 8))\n",
    "sns.heatmap(dfT.corr(), annot=True, cmap=\"magma\");"
   ]
  },
  {
   "cell_type": "code",
   "execution_count": 4,
   "id": "ba2aefca",
   "metadata": {},
   "outputs": [
    {
     "data": {
      "text/plain": [
       "((9172, 11),\n",
       " Index(['age', 'sex', 'on_antithyroid_meds', 'thyroid_surgery', 'tumor', 'TSH',\n",
       "        'T3', 'TT4', 'T4U', 'FTI', 'target'],\n",
       "       dtype='object'))"
      ]
     },
     "execution_count": 4,
     "metadata": {},
     "output_type": "execute_result"
    }
   ],
   "source": [
    "dfT.shape, dfT.columns\n",
    "\n",
    "# indices que são numéricos\n",
    "# 0 17 19 21 23 25 27"
   ]
  },
  {
   "cell_type": "code",
   "execution_count": 5,
   "id": "1e35b43e",
   "metadata": {},
   "outputs": [
    {
     "data": {
      "text/html": [
       "<div>\n",
       "<style scoped>\n",
       "    .dataframe tbody tr th:only-of-type {\n",
       "        vertical-align: middle;\n",
       "    }\n",
       "\n",
       "    .dataframe tbody tr th {\n",
       "        vertical-align: top;\n",
       "    }\n",
       "\n",
       "    .dataframe thead th {\n",
       "        text-align: right;\n",
       "    }\n",
       "</style>\n",
       "<table border=\"1\" class=\"dataframe\">\n",
       "  <thead>\n",
       "    <tr style=\"text-align: right;\">\n",
       "      <th></th>\n",
       "      <th>age</th>\n",
       "      <th>sex</th>\n",
       "      <th>on_antithyroid_meds</th>\n",
       "      <th>thyroid_surgery</th>\n",
       "      <th>tumor</th>\n",
       "      <th>TSH</th>\n",
       "      <th>T3</th>\n",
       "      <th>TT4</th>\n",
       "      <th>T4U</th>\n",
       "      <th>FTI</th>\n",
       "      <th>target</th>\n",
       "    </tr>\n",
       "  </thead>\n",
       "  <tbody>\n",
       "    <tr>\n",
       "      <th>0</th>\n",
       "      <td>29</td>\n",
       "      <td>F</td>\n",
       "      <td>f</td>\n",
       "      <td>f</td>\n",
       "      <td>f</td>\n",
       "      <td>0.3</td>\n",
       "      <td>NaN</td>\n",
       "      <td>NaN</td>\n",
       "      <td>NaN</td>\n",
       "      <td>NaN</td>\n",
       "      <td>-</td>\n",
       "    </tr>\n",
       "    <tr>\n",
       "      <th>1</th>\n",
       "      <td>29</td>\n",
       "      <td>F</td>\n",
       "      <td>f</td>\n",
       "      <td>f</td>\n",
       "      <td>f</td>\n",
       "      <td>1.6</td>\n",
       "      <td>1.9</td>\n",
       "      <td>128.0</td>\n",
       "      <td>NaN</td>\n",
       "      <td>NaN</td>\n",
       "      <td>-</td>\n",
       "    </tr>\n",
       "    <tr>\n",
       "      <th>2</th>\n",
       "      <td>41</td>\n",
       "      <td>F</td>\n",
       "      <td>f</td>\n",
       "      <td>f</td>\n",
       "      <td>f</td>\n",
       "      <td>NaN</td>\n",
       "      <td>NaN</td>\n",
       "      <td>NaN</td>\n",
       "      <td>NaN</td>\n",
       "      <td>NaN</td>\n",
       "      <td>-</td>\n",
       "    </tr>\n",
       "    <tr>\n",
       "      <th>3</th>\n",
       "      <td>36</td>\n",
       "      <td>F</td>\n",
       "      <td>f</td>\n",
       "      <td>f</td>\n",
       "      <td>f</td>\n",
       "      <td>NaN</td>\n",
       "      <td>NaN</td>\n",
       "      <td>NaN</td>\n",
       "      <td>NaN</td>\n",
       "      <td>NaN</td>\n",
       "      <td>-</td>\n",
       "    </tr>\n",
       "    <tr>\n",
       "      <th>4</th>\n",
       "      <td>32</td>\n",
       "      <td>F</td>\n",
       "      <td>f</td>\n",
       "      <td>f</td>\n",
       "      <td>f</td>\n",
       "      <td>NaN</td>\n",
       "      <td>NaN</td>\n",
       "      <td>NaN</td>\n",
       "      <td>NaN</td>\n",
       "      <td>NaN</td>\n",
       "      <td>S</td>\n",
       "    </tr>\n",
       "  </tbody>\n",
       "</table>\n",
       "</div>"
      ],
      "text/plain": [
       "   age sex on_antithyroid_meds thyroid_surgery tumor  TSH   T3    TT4  T4U  \\\n",
       "0   29   F                   f               f     f  0.3  NaN    NaN  NaN   \n",
       "1   29   F                   f               f     f  1.6  1.9  128.0  NaN   \n",
       "2   41   F                   f               f     f  NaN  NaN    NaN  NaN   \n",
       "3   36   F                   f               f     f  NaN  NaN    NaN  NaN   \n",
       "4   32   F                   f               f     f  NaN  NaN    NaN  NaN   \n",
       "\n",
       "   FTI target  \n",
       "0  NaN      -  \n",
       "1  NaN      -  \n",
       "2  NaN      -  \n",
       "3  NaN      -  \n",
       "4  NaN      S  "
      ]
     },
     "execution_count": 5,
     "metadata": {},
     "output_type": "execute_result"
    }
   ],
   "source": [
    "dfT.head()"
   ]
  },
  {
   "cell_type": "code",
   "execution_count": 6,
   "id": "f364a180",
   "metadata": {},
   "outputs": [
    {
     "data": {
      "text/plain": [
       "Int64Index([   0,    1,    2,    3,    5,    6,    7,    8,    9,   10,\n",
       "            ...\n",
       "            9160, 9161, 9163, 9164, 9165, 9166, 9167, 9168, 9170, 9171],\n",
       "           dtype='int64', length=6771)"
      ]
     },
     "execution_count": 6,
     "metadata": {},
     "output_type": "execute_result"
    }
   ],
   "source": [
    "dfT[dfT['target'] == '-'].index"
   ]
  },
  {
   "cell_type": "code",
   "execution_count": 8,
   "id": "316b0b88",
   "metadata": {},
   "outputs": [
    {
     "data": {
      "text/html": [
       "<div>\n",
       "<style scoped>\n",
       "    .dataframe tbody tr th:only-of-type {\n",
       "        vertical-align: middle;\n",
       "    }\n",
       "\n",
       "    .dataframe tbody tr th {\n",
       "        vertical-align: top;\n",
       "    }\n",
       "\n",
       "    .dataframe thead th {\n",
       "        text-align: right;\n",
       "    }\n",
       "</style>\n",
       "<table border=\"1\" class=\"dataframe\">\n",
       "  <thead>\n",
       "    <tr style=\"text-align: right;\">\n",
       "      <th></th>\n",
       "      <th>age</th>\n",
       "      <th>TSH</th>\n",
       "      <th>T3</th>\n",
       "      <th>TT4</th>\n",
       "      <th>T4U</th>\n",
       "      <th>FTI</th>\n",
       "    </tr>\n",
       "  </thead>\n",
       "  <tbody>\n",
       "    <tr>\n",
       "      <th>count</th>\n",
       "      <td>9172.000000</td>\n",
       "      <td>8330.000000</td>\n",
       "      <td>6568.000000</td>\n",
       "      <td>8730.000000</td>\n",
       "      <td>8363.000000</td>\n",
       "      <td>8370.000000</td>\n",
       "    </tr>\n",
       "    <tr>\n",
       "      <th>mean</th>\n",
       "      <td>73.555822</td>\n",
       "      <td>5.218403</td>\n",
       "      <td>1.970629</td>\n",
       "      <td>108.700305</td>\n",
       "      <td>0.976056</td>\n",
       "      <td>113.640746</td>\n",
       "    </tr>\n",
       "    <tr>\n",
       "      <th>std</th>\n",
       "      <td>1183.976718</td>\n",
       "      <td>24.184006</td>\n",
       "      <td>0.887579</td>\n",
       "      <td>37.522670</td>\n",
       "      <td>0.200360</td>\n",
       "      <td>41.551650</td>\n",
       "    </tr>\n",
       "    <tr>\n",
       "      <th>min</th>\n",
       "      <td>1.000000</td>\n",
       "      <td>0.005000</td>\n",
       "      <td>0.050000</td>\n",
       "      <td>2.000000</td>\n",
       "      <td>0.170000</td>\n",
       "      <td>1.400000</td>\n",
       "    </tr>\n",
       "    <tr>\n",
       "      <th>25%</th>\n",
       "      <td>37.000000</td>\n",
       "      <td>0.460000</td>\n",
       "      <td>1.500000</td>\n",
       "      <td>87.000000</td>\n",
       "      <td>0.860000</td>\n",
       "      <td>93.000000</td>\n",
       "    </tr>\n",
       "    <tr>\n",
       "      <th>50%</th>\n",
       "      <td>55.000000</td>\n",
       "      <td>1.400000</td>\n",
       "      <td>1.900000</td>\n",
       "      <td>104.000000</td>\n",
       "      <td>0.960000</td>\n",
       "      <td>109.000000</td>\n",
       "    </tr>\n",
       "    <tr>\n",
       "      <th>75%</th>\n",
       "      <td>68.000000</td>\n",
       "      <td>2.700000</td>\n",
       "      <td>2.300000</td>\n",
       "      <td>126.000000</td>\n",
       "      <td>1.065000</td>\n",
       "      <td>128.000000</td>\n",
       "    </tr>\n",
       "    <tr>\n",
       "      <th>max</th>\n",
       "      <td>65526.000000</td>\n",
       "      <td>530.000000</td>\n",
       "      <td>18.000000</td>\n",
       "      <td>600.000000</td>\n",
       "      <td>2.330000</td>\n",
       "      <td>881.000000</td>\n",
       "    </tr>\n",
       "  </tbody>\n",
       "</table>\n",
       "</div>"
      ],
      "text/plain": [
       "                age          TSH           T3          TT4          T4U  \\\n",
       "count   9172.000000  8330.000000  6568.000000  8730.000000  8363.000000   \n",
       "mean      73.555822     5.218403     1.970629   108.700305     0.976056   \n",
       "std     1183.976718    24.184006     0.887579    37.522670     0.200360   \n",
       "min        1.000000     0.005000     0.050000     2.000000     0.170000   \n",
       "25%       37.000000     0.460000     1.500000    87.000000     0.860000   \n",
       "50%       55.000000     1.400000     1.900000   104.000000     0.960000   \n",
       "75%       68.000000     2.700000     2.300000   126.000000     1.065000   \n",
       "max    65526.000000   530.000000    18.000000   600.000000     2.330000   \n",
       "\n",
       "               FTI  \n",
       "count  8370.000000  \n",
       "mean    113.640746  \n",
       "std      41.551650  \n",
       "min       1.400000  \n",
       "25%      93.000000  \n",
       "50%     109.000000  \n",
       "75%     128.000000  \n",
       "max     881.000000  "
      ]
     },
     "execution_count": 8,
     "metadata": {},
     "output_type": "execute_result"
    }
   ],
   "source": [
    "dfT.describe()"
   ]
  },
  {
   "cell_type": "code",
   "execution_count": 9,
   "id": "0b734655",
   "metadata": {},
   "outputs": [
    {
     "name": "stderr",
     "output_type": "stream",
     "text": [
      "C:\\Users\\Matheus\\AppData\\Local\\Temp\\ipykernel_14328\\2626342529.py:4: FutureWarning: Dropping of nuisance columns in DataFrame reductions (with 'numeric_only=None') is deprecated; in a future version this will raise TypeError.  Select only valid columns before calling the reduction.\n",
      "  dfT.mean()\n"
     ]
    },
    {
     "data": {
      "text/plain": [
       "age     73.555822\n",
       "TSH      5.218403\n",
       "T3       1.970629\n",
       "TT4    108.700305\n",
       "T4U      0.976056\n",
       "FTI    113.640746\n",
       "dtype: float64"
      ]
     },
     "execution_count": 9,
     "metadata": {},
     "output_type": "execute_result"
    }
   ],
   "source": [
    "# Esse valor tem os dados desbalanceados devido uma quantidade de NaN presente\n",
    "# E por termos valores vazios no dataset\n",
    "\n",
    "dfT.mean()"
   ]
  },
  {
   "cell_type": "code",
   "execution_count": 10,
   "id": "9512e61f",
   "metadata": {},
   "outputs": [
    {
     "data": {
      "text/plain": [
       "age                       0\n",
       "sex                     307\n",
       "on_antithyroid_meds       0\n",
       "thyroid_surgery           0\n",
       "tumor                     0\n",
       "TSH                     842\n",
       "T3                     2604\n",
       "TT4                     442\n",
       "T4U                     809\n",
       "FTI                     802\n",
       "target                    0\n",
       "dtype: int64"
      ]
     },
     "execution_count": 10,
     "metadata": {},
     "output_type": "execute_result"
    }
   ],
   "source": [
    "dfT.isna().sum()"
   ]
  },
  {
   "cell_type": "code",
   "execution_count": null,
   "id": "a510fe31",
   "metadata": {},
   "outputs": [],
   "source": [
    "sns.histplot(x=dfT['TBG'], y=dfT['T4U'], kde=True, color='darkblue');"
   ]
  },
  {
   "cell_type": "code",
   "execution_count": null,
   "id": "f699b784",
   "metadata": {},
   "outputs": [],
   "source": [
    "sns.lmplot(data=dfT,\n",
    "          x='TBG',\n",
    "          y='T4U');"
   ]
  },
  {
   "cell_type": "code",
   "execution_count": null,
   "id": "47ef7c2a",
   "metadata": {},
   "outputs": [],
   "source": [
    "sns.lmplot(data=dfT,\n",
    "          x='TT4', y='FTI',\n",
    "           hue='sex');"
   ]
  },
  {
   "cell_type": "code",
   "execution_count": null,
   "id": "dffb5416",
   "metadata": {},
   "outputs": [],
   "source": [
    "sns.lmplot(data=dfT,\n",
    "          x='TSH', y='T3');"
   ]
  },
  {
   "cell_type": "code",
   "execution_count": null,
   "id": "8e34aa32",
   "metadata": {},
   "outputs": [],
   "source": [
    "sns.lmplot(data=dfT,\n",
    "          x='TSH', y='FTI');"
   ]
  },
  {
   "cell_type": "code",
   "execution_count": null,
   "id": "a114d81b",
   "metadata": {},
   "outputs": [],
   "source": [
    "sns.lmplot(data=dfT,\n",
    "          x='T3',\n",
    "          y='TT4');"
   ]
  },
  {
   "cell_type": "code",
   "execution_count": null,
   "id": "eaa2b8b5",
   "metadata": {},
   "outputs": [],
   "source": [
    "sns.scatterplot(data=dfT, x='T4U', y='TT4', hue='sex')"
   ]
  },
  {
   "cell_type": "code",
   "execution_count": null,
   "id": "ad3fcdc2",
   "metadata": {},
   "outputs": [],
   "source": [
    "sns.scatterplot(data=dfT, x='T4U', y='TSH', hue='sex')"
   ]
  },
  {
   "cell_type": "code",
   "execution_count": null,
   "id": "6edb374e",
   "metadata": {},
   "outputs": [],
   "source": [
    "sns.countplot(dfT['age'], palette='mako');\n",
    "# dfT[dfT['age'] <= 0] >>>> sem idades negativas"
   ]
  },
  {
   "cell_type": "code",
   "execution_count": null,
   "id": "61c802dd",
   "metadata": {},
   "outputs": [],
   "source": [
    "plt.hist(x = dfT['age'], color='lightgreen');"
   ]
  },
  {
   "cell_type": "code",
   "execution_count": null,
   "id": "43f47a13",
   "metadata": {},
   "outputs": [],
   "source": [
    "sns.countplot(dfT['sex'], palette='mako');"
   ]
  },
  {
   "cell_type": "code",
   "execution_count": null,
   "id": "69245812",
   "metadata": {},
   "outputs": [],
   "source": [
    "X = dfT.iloc[:, 0:11].values\n",
    "X"
   ]
  },
  {
   "cell_type": "code",
   "execution_count": null,
   "id": "e17d33b8",
   "metadata": {},
   "outputs": [],
   "source": [
    "# precisamos tratar os valores de X, pois estão muito desbalanceados\n",
    "\n",
    "X[:,0].min(), X[:,0].max()"
   ]
  },
  {
   "cell_type": "markdown",
   "id": "09a793e7",
   "metadata": {},
   "source": [
    "#### Tratando os valores de X"
   ]
  },
  {
   "cell_type": "code",
   "execution_count": null,
   "id": "01fcfdd5",
   "metadata": {},
   "outputs": [],
   "source": [
    "from sklearn.preprocessing import StandardScaler"
   ]
  },
  {
   "cell_type": "code",
   "execution_count": null,
   "id": "f33bb49f",
   "metadata": {},
   "outputs": [],
   "source": [
    "y = dfT.iloc[:, 11].values\n",
    "y"
   ]
  },
  {
   "cell_type": "code",
   "execution_count": null,
   "id": "27dcee2c",
   "metadata": {},
   "outputs": [],
   "source": [
    "# '-' representa 'no condition'\n",
    "sns.histplot(y, kde=True, color='green');"
   ]
  },
  {
   "cell_type": "code",
   "execution_count": null,
   "id": "aecbecc1",
   "metadata": {},
   "outputs": [],
   "source": [
    "# visualizando as pessoas que tem Hipertiroidismo\n",
    "\n",
    "dfT[dfT['target'] == 'ABCD'].index\n",
    "\n",
    "# visualizando as pessoas com hipotiroidismo\n",
    "\n",
    "dfT[dfT['target'] == 'EFGH'].index\n",
    "\n",
    "# Ambos retornam arrays com valores vazios."
   ]
  },
  {
   "cell_type": "markdown",
   "id": "5928a63e",
   "metadata": {},
   "source": [
    "#### Precisamos fazer grupos que dividam a classe 'target' nos subgrupos de diagnóstico\n",
    "<br />\n",
    "hyperthyroid conditions:\n",
    "\n",
    "    A   hyperthyroid\n",
    "    B   T3 toxic\n",
    "    C   toxic goitre\n",
    "    D   secondary toxic\n",
    "    \n",
    "<br />\n",
    "hypothyroid conditions:\n",
    "\n",
    "    E   hypothyroid\n",
    "    F   primary hypothyroid\n",
    "    G   compensated hypothyroid\n",
    "    H   secondary hypothyroid\n"
   ]
  },
  {
   "cell_type": "code",
   "execution_count": null,
   "id": "a4cf53d9",
   "metadata": {},
   "outputs": [],
   "source": [
    "## Label Enconder para tratamento de variáveis categóricas\n",
    "from sklearn.preprocessing import LabelEncoder"
   ]
  },
  {
   "cell_type": "code",
   "execution_count": null,
   "id": "0b948319",
   "metadata": {},
   "outputs": [],
   "source": [
    "# Vamos usar o dfT_X para treinar o modelo\n",
    "dfT_X = X"
   ]
  },
  {
   "cell_type": "code",
   "execution_count": null,
   "id": "9f42e053",
   "metadata": {},
   "outputs": [],
   "source": [
    "dfT.columns"
   ]
  },
  {
   "cell_type": "code",
   "execution_count": null,
   "id": "62f4db90",
   "metadata": {},
   "outputs": [],
   "source": [
    "dfT_X"
   ]
  },
  {
   "cell_type": "code",
   "execution_count": null,
   "id": "51d70408",
   "metadata": {},
   "outputs": [],
   "source": [
    "label_enconder_sex = LabelEncoder()\n",
    "label_enconder_meds = LabelEncoder()\n",
    "label_enconder_surgery = LabelEncoder()\n",
    "label_enconder_tumor = LabelEncoder()\n",
    "label_enconder_target = LabelEncoder()"
   ]
  },
  {
   "cell_type": "code",
   "execution_count": null,
   "id": "7af7b777",
   "metadata": {},
   "outputs": [],
   "source": [
    "dfT_X"
   ]
  },
  {
   "cell_type": "code",
   "execution_count": null,
   "id": "f0e89ec9",
   "metadata": {},
   "outputs": [],
   "source": [
    "dfT.columns"
   ]
  },
  {
   "cell_type": "code",
   "execution_count": null,
   "id": "bcacc957",
   "metadata": {},
   "outputs": [],
   "source": [
    "dfT_X[:,1] = label_enconder_sex.fit_transform(dfT_X[:,1])\n",
    "dfT_X[:,2] = label_enconder_meds.fit_transform(dfT_X[:,2])\n",
    "dfT_X[:,3] = label_enconder_surgery.fit_transform(dfT_X[:,3])\n",
    "dfT_X[:,4] = label_enconder_tumor.fit_transform(dfT_X[:,4])\n",
    "dfT_X[:,5] = label_enconder_tumor.fit_transform(dfT_X[:,5])"
   ]
  },
  {
   "cell_type": "code",
   "execution_count": null,
   "id": "0c337620",
   "metadata": {},
   "outputs": [],
   "source": [
    "dfT_X"
   ]
  },
  {
   "cell_type": "code",
   "execution_count": null,
   "id": "d4d972a5",
   "metadata": {},
   "outputs": [],
   "source": [
    "scaler = StandardScaler()\n",
    "print(scaler.fit(dfT_X))"
   ]
  },
  {
   "cell_type": "code",
   "execution_count": null,
   "id": "06498dd2",
   "metadata": {},
   "outputs": [],
   "source": [
    "scaler.transform(dfT_X)"
   ]
  },
  {
   "cell_type": "code",
   "execution_count": null,
   "id": "ea13718d",
   "metadata": {},
   "outputs": [],
   "source": [
    "np.mean(dfT_X)"
   ]
  },
  {
   "cell_type": "code",
   "execution_count": null,
   "id": "ab67381e",
   "metadata": {},
   "outputs": [],
   "source": [
    "#pd.DataFrame(dfT_X)\n",
    "dfT_X= pd.DataFrame(dfT_X)\n",
    "dfT_X.describe()"
   ]
  },
  {
   "cell_type": "code",
   "execution_count": null,
   "id": "2d74129d",
   "metadata": {},
   "outputs": [],
   "source": []
  },
  {
   "cell_type": "code",
   "execution_count": null,
   "id": "6742f986",
   "metadata": {},
   "outputs": [],
   "source": []
  },
  {
   "cell_type": "code",
   "execution_count": null,
   "id": "771f24cd",
   "metadata": {},
   "outputs": [],
   "source": []
  },
  {
   "cell_type": "code",
   "execution_count": null,
   "id": "d7fc4251",
   "metadata": {},
   "outputs": [],
   "source": []
  },
  {
   "cell_type": "code",
   "execution_count": null,
   "id": "4c4ec092",
   "metadata": {},
   "outputs": [],
   "source": []
  },
  {
   "cell_type": "code",
   "execution_count": null,
   "id": "55d709eb",
   "metadata": {},
   "outputs": [],
   "source": []
  },
  {
   "cell_type": "code",
   "execution_count": null,
   "id": "d750e2ad",
   "metadata": {},
   "outputs": [],
   "source": []
  },
  {
   "cell_type": "code",
   "execution_count": null,
   "id": "f64cdf65",
   "metadata": {},
   "outputs": [],
   "source": []
  },
  {
   "cell_type": "code",
   "execution_count": null,
   "id": "7f5e3508",
   "metadata": {},
   "outputs": [],
   "source": []
  },
  {
   "cell_type": "code",
   "execution_count": null,
   "id": "b0b2cc9e",
   "metadata": {},
   "outputs": [],
   "source": []
  },
  {
   "cell_type": "code",
   "execution_count": null,
   "id": "bf96a911",
   "metadata": {},
   "outputs": [],
   "source": []
  },
  {
   "cell_type": "code",
   "execution_count": null,
   "id": "3549dcc3",
   "metadata": {},
   "outputs": [],
   "source": []
  },
  {
   "cell_type": "code",
   "execution_count": null,
   "id": "8478a372",
   "metadata": {},
   "outputs": [],
   "source": []
  }
 ],
 "metadata": {
  "kernelspec": {
   "display_name": "Python 3 (ipykernel)",
   "language": "python",
   "name": "python3"
  },
  "language_info": {
   "codemirror_mode": {
    "name": "ipython",
    "version": 3
   },
   "file_extension": ".py",
   "mimetype": "text/x-python",
   "name": "python",
   "nbconvert_exporter": "python",
   "pygments_lexer": "ipython3",
   "version": "3.9.12"
  }
 },
 "nbformat": 4,
 "nbformat_minor": 5
}
