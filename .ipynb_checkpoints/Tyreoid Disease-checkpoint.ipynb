{
 "cells": [
  {
   "cell_type": "code",
   "execution_count": 1,
   "id": "38326890",
   "metadata": {},
   "outputs": [],
   "source": [
    "import pandas as pd\n",
    "import numpy as np\n",
    "import seaborn as sns\n",
    "import matplotlib.pyplot as plt\n",
    "import plotly.express as px"
   ]
  },
  {
   "cell_type": "code",
   "execution_count": 2,
   "id": "5efeaead",
   "metadata": {},
   "outputs": [],
   "source": [
    "dfT = pd.read_csv('./data/thyroidDF.csv')\n",
    "dfT.drop(columns=['patient_id'], inplace=True)"
   ]
  },
  {
   "cell_type": "code",
   "execution_count": null,
   "id": "7693cc8a",
   "metadata": {},
   "outputs": [],
   "source": [
    "sns.histplot(dfT['age'], kde=True, palette='mako');\n",
    "# dfT[dfT['age'] <= 0] >>>> sem idades negativas"
   ]
  },
  {
   "cell_type": "code",
   "execution_count": null,
   "id": "e35e3475",
   "metadata": {},
   "outputs": [],
   "source": [
    "sns.countplot(dfT['sex'], palette='mako');\n"
   ]
  },
  {
   "cell_type": "code",
   "execution_count": null,
   "id": "176bf42d",
   "metadata": {},
   "outputs": [],
   "source": [
    "# praticamente todas as mulheres do banco de dados estavam grávidas durante as análises\n",
    "\n",
    "sns.countplot(dfT['pregnant'], palette='mako');"
   ]
  },
  {
   "cell_type": "code",
   "execution_count": null,
   "id": "4f386d45",
   "metadata": {},
   "outputs": [],
   "source": [
    "dfT.corr(), dfT.cov()"
   ]
  },
  {
   "cell_type": "code",
   "execution_count": null,
   "id": "d4501e11",
   "metadata": {},
   "outputs": [],
   "source": [
    "dfT.shape, dfT.columns"
   ]
  },
  {
   "cell_type": "code",
   "execution_count": null,
   "id": "2c18eb4a",
   "metadata": {},
   "outputs": [],
   "source": [
    "X = dfT.iloc[:, 0:29].values\n",
    "X"
   ]
  },
  {
   "cell_type": "code",
   "execution_count": null,
   "id": "9093785d",
   "metadata": {},
   "outputs": [],
   "source": [
    "X.shape"
   ]
  },
  {
   "cell_type": "code",
   "execution_count": null,
   "id": "c5152b83",
   "metadata": {},
   "outputs": [],
   "source": [
    "dfT['target'].values"
   ]
  },
  {
   "cell_type": "code",
   "execution_count": null,
   "id": "9f56d7d9",
   "metadata": {},
   "outputs": [],
   "source": [
    "## Label Enconder para tratamento de variáveis categóricas\n",
    "\n",
    "from sklearn.preprocessing import LabelEncoder"
   ]
  },
  {
   "cell_type": "code",
   "execution_count": null,
   "id": "b407ecd5",
   "metadata": {},
   "outputs": [],
   "source": [
    "# Tratando os atributos categóricos\n",
    "\n",
    "label_enconder_sex = LabelEncoder()\n",
    "label_encoder_on_thyroxine = LabelEncoder()\n",
    "label_encoder_query_on_thyroxine = LabelEncoder()\n",
    "label_encoder_on_antithyroid_meds = LabelEncoder()\n",
    "label_encoder_sick = LabelEncoder()\n",
    "label_encoder_pregnant = LabelEncoder()\n",
    "label_encoder_thyroid_surgery = LabelEncoder()\n",
    "label_encoder_I131_treatment = LabelEncoder()\n",
    "label_encoder_query_hypothyroid = LabelEncoder()\n",
    "label_encoder_query_hyperthyroid = LabelEncoder()\n",
    "label_encoder_lithium = LabelEncoder()\n",
    "label_encoder_goitre = LabelEncoder()\n",
    "label_encoder_tumor = LabelEncoder()\n",
    "label_encoder_hypopituitary = LabelEncoder()\n",
    "label_encoder_psych = LabelEncoder()\n",
    "label_encoder_TSH_measured = LabelEncoder()\n",
    "label_encoder_TSH = LabelEncoder()\n",
    "label_encoder_T3_measured = LabelEncoder()\n",
    "label_encoder_T3 = LabelEncoder()\n",
    "label_encoder_TT4_measured = LabelEncoder()\n",
    "# label_encoder_T4U_measured = LabelEncoder() ## int\n",
    "label_encoder_FTI_measured = LabelEncoder()\n",
    "# label_encoder_FTI = LabelEncoder() ## int\n",
    "label_encoder_TBG_measured = LabelEncoder()\n",
    "# label_encoder_TBG = LabelEncoder() ## int\n",
    "label_encoder_referral_source = LabelEncoder()\n",
    "label_encoder_target = LabelEncoder()"
   ]
  },
  {
   "cell_type": "code",
   "execution_count": null,
   "id": "84c22d79",
   "metadata": {},
   "outputs": [],
   "source": [
    "X[:,1] = label_enconder_sex.fit_transform(X[:,1])\n",
    "X[:,3] = label_encoder_on_thyroxine.fit_transform(X[:,3])\n",
    "X[:,5] = label_encoder_query_on_thyroxine.fit_transform(X[:,5])\n",
    "X[:,6] = label_encoder_on_antithyroid_meds.fit_transform(X[:,6])\n",
    "X[:,7] = label_encoder_sick.fit_transform(X[:,7])\n",
    "X[:,8] = label_encoder_pregnant.fit_transform(X[:,8])\n",
    "X[:,9] = label_encoder_thyroid_surgery.fit_transform(X[:,9])\n",
    "X[:,13] = label_encoder_I131_treatment.fit_transform(X[:,13])\n",
    "X[:,14] = label_encoder_query_hypothyroid.fit_transform(X[:,14])\n",
    "X[:,15] = label_encoder_query_hyperthyroid.fit_transform(X[:,15])\n",
    "X[:,16] = label_encoder_lithium.fit_transform(X[:,16])\n",
    "X[:,17] = label_encoder_goitre.fit_transform(X[:,17])\n",
    "X[:,18] = label_encoder_tumor.fit_transform(X[:,18])\n",
    "X[:,19] = label_encoder_hypopituitary.fit_transform(X[:,19])\n",
    "X[:,20] = label_encoder_psych.fit_transform(X[:,20])\n",
    "X[:,21]= label_encoder_TSH_measured.fit_transform(X[:,21])\n",
    "X[:,22]= label_encoder_TSH.fit_transform(X[:,22])\n",
    "X[:,23] = label_encoder_T3_measured.fit_transform(X[:,23])\n",
    "X[:,24]= label_encoder_T3.fit_transform(X[:,24])\n",
    "X[:,25]= label_encoder_TT4_measured.fit_transform(X[:,25])\n",
    "X[:,26]=label_encoder_FTI_measured.fit_transform(X[:,26])\n",
    "X[:,27]= label_encoder_TBG_measured.fit_transform(X[:,27])\n",
    "X[:,28]= label_encoder_referral_source.fit_transform(X[:,28])\n",
    "#y[:,29] = label_encoder_target.fit_transform(y[:,29])"
   ]
  },
  {
   "cell_type": "code",
   "execution_count": null,
   "id": "21518c7c",
   "metadata": {},
   "outputs": [],
   "source": [
    "y = dfT.iloc[:, 29].values\n",
    "y"
   ]
  },
  {
   "cell_type": "code",
   "execution_count": null,
   "id": "8a6adbf2",
   "metadata": {},
   "outputs": [],
   "source": [
    "dfT.describe()"
   ]
  },
  {
   "cell_type": "code",
   "execution_count": null,
   "id": "38ca034d",
   "metadata": {},
   "outputs": [],
   "source": [
    "# query_hypothyroid - whether patient believes they have hypothyroid (bool)\n",
    "# query_hyperthyroid - whether patient believes they have hyperthyroid (bool)\n",
    "\n",
    "dfT.isnull().sum()"
   ]
  }
 ],
 "metadata": {
  "kernelspec": {
   "display_name": "Python 3 (ipykernel)",
   "language": "python",
   "name": "python3"
  },
  "language_info": {
   "codemirror_mode": {
    "name": "ipython",
    "version": 3
   },
   "file_extension": ".py",
   "mimetype": "text/x-python",
   "name": "python",
   "nbconvert_exporter": "python",
   "pygments_lexer": "ipython3",
   "version": "3.9.12"
  }
 },
 "nbformat": 4,
 "nbformat_minor": 5
}
