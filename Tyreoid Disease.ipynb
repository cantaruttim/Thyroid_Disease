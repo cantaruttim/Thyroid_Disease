{
 "cells": [
  {
   "cell_type": "code",
   "execution_count": null,
   "id": "c373db91",
   "metadata": {},
   "outputs": [],
   "source": [
    "import pandas as pd\n",
    "import numpy as np\n",
    "import seaborn as sns\n",
    "import matplotlib.pyplot as plt\n",
    "import plotly.express as px"
   ]
  },
  {
   "cell_type": "code",
   "execution_count": null,
   "id": "c49b625f",
   "metadata": {},
   "outputs": [],
   "source": [
    "dfT = pd.read_csv('./data/thyroidDF.csv')\n",
    "# retirando as colunas que não iremos utilizar para treinar o modelo\n",
    "dfT.drop(columns=['patient_id', 'on_thyroxine', 'query_on_thyroxine', 'sick', 'I131_treatment',\n",
    "                 'query_hypothyroid','pregnant','query_hyperthyroid','lithium', 'goitre',\n",
    "                 'hypopituitary','psych','TSH_measured','T3_measured','TT4_measured','T4U_measured',\n",
    "                  'FTI_measured','TBG_measured','referral_source'], inplace=True)"
   ]
  },
  {
   "cell_type": "code",
   "execution_count": null,
   "id": "7d8ab717",
   "metadata": {},
   "outputs": [],
   "source": [
    "f, ax = plt.subplots(figsize=(10, 8))\n",
    "sns.heatmap(dfT.corr(), annot=True, cmap=\"magma\");"
   ]
  },
  {
   "cell_type": "code",
   "execution_count": null,
   "id": "ba2aefca",
   "metadata": {},
   "outputs": [],
   "source": [
    "dfT.shape, dfT.columns\n",
    "\n",
    "# indices que são numéricos\n",
    "# 0 17 19 21 23 25 27"
   ]
  },
  {
   "cell_type": "code",
   "execution_count": null,
   "id": "1e35b43e",
   "metadata": {},
   "outputs": [],
   "source": [
    "dfT.head(15)"
   ]
  },
  {
   "cell_type": "code",
   "execution_count": null,
   "id": "316b0b88",
   "metadata": {},
   "outputs": [],
   "source": [
    "dfT.describe()"
   ]
  },
  {
   "cell_type": "code",
   "execution_count": null,
   "id": "0b734655",
   "metadata": {},
   "outputs": [],
   "source": [
    "# Esse valor tem os dados desbalanceados devido uma quantidade de NaN presente\n",
    "# E por termos valores vazios no dataset\n",
    "\n",
    "dfT.mean()"
   ]
  },
  {
   "cell_type": "code",
   "execution_count": null,
   "id": "a510fe31",
   "metadata": {},
   "outputs": [],
   "source": [
    "sns.histplot(x=dfT['TBG'], y=dfT['T4U'], kde=True, color='darkblue');"
   ]
  },
  {
   "cell_type": "code",
   "execution_count": null,
   "id": "f699b784",
   "metadata": {},
   "outputs": [],
   "source": [
    "sns.lmplot(data=dfT,\n",
    "          x='TBG',\n",
    "          y='T4U');"
   ]
  },
  {
   "cell_type": "code",
   "execution_count": null,
   "id": "47ef7c2a",
   "metadata": {},
   "outputs": [],
   "source": [
    "sns.lmplot(data=dfT,\n",
    "          x='TT4', y='FTI',\n",
    "           hue='sex');"
   ]
  },
  {
   "cell_type": "code",
   "execution_count": null,
   "id": "dffb5416",
   "metadata": {},
   "outputs": [],
   "source": [
    "sns.lmplot(data=dfT,\n",
    "          x='TSH', y='T3');"
   ]
  },
  {
   "cell_type": "code",
   "execution_count": null,
   "id": "8e34aa32",
   "metadata": {},
   "outputs": [],
   "source": [
    "sns.lmplot(data=dfT,\n",
    "          x='TSH', y='FTI');"
   ]
  },
  {
   "cell_type": "code",
   "execution_count": null,
   "id": "a114d81b",
   "metadata": {},
   "outputs": [],
   "source": [
    "sns.lmplot(data=dfT,\n",
    "          x='T3',\n",
    "          y='TT4');"
   ]
  },
  {
   "cell_type": "code",
   "execution_count": null,
   "id": "eaa2b8b5",
   "metadata": {},
   "outputs": [],
   "source": [
    "sns.scatterplot(data=dfT, x='T4U', y='TT4', hue='sex')"
   ]
  },
  {
   "cell_type": "code",
   "execution_count": null,
   "id": "ad3fcdc2",
   "metadata": {},
   "outputs": [],
   "source": [
    "sns.scatterplot(data=dfT, x='T4U', y='TSH', hue='sex')"
   ]
  },
  {
   "cell_type": "code",
   "execution_count": null,
   "id": "6edb374e",
   "metadata": {},
   "outputs": [],
   "source": [
    "sns.countplot(dfT['age'], palette='mako');\n",
    "# dfT[dfT['age'] <= 0] >>>> sem idades negativas"
   ]
  },
  {
   "cell_type": "code",
   "execution_count": null,
   "id": "61c802dd",
   "metadata": {},
   "outputs": [],
   "source": [
    "plt.hist(x = dfT['age'], color='lightgreen');"
   ]
  },
  {
   "cell_type": "code",
   "execution_count": null,
   "id": "43f47a13",
   "metadata": {},
   "outputs": [],
   "source": [
    "sns.countplot(dfT['sex'], palette='mako');"
   ]
  },
  {
   "cell_type": "code",
   "execution_count": null,
   "id": "69245812",
   "metadata": {},
   "outputs": [],
   "source": [
    "X = dfT.iloc[:, 0:11].values\n",
    "X"
   ]
  },
  {
   "cell_type": "code",
   "execution_count": null,
   "id": "13c5845d",
   "metadata": {},
   "outputs": [],
   "source": [
    "# Thyroxine-binding globulin (TBG), X[:,11] is one of three major transport proteins, which are primarily \n",
    "# responsible for binding to and transporting thyroid hormones to the necessary tissues\n",
    "# dispersão do TBG pela idade\n",
    "\n",
    "#f, ax = plt.subplots(figsize=(8, 8))\n",
    "#sns.scatterplot(data=X, x=X[:, 0], y=X[:, 11], s=25, color='red');"
   ]
  },
  {
   "cell_type": "code",
   "execution_count": null,
   "id": "e17d33b8",
   "metadata": {},
   "outputs": [],
   "source": [
    "X[:,0].min(), X[:,0].max()"
   ]
  },
  {
   "cell_type": "code",
   "execution_count": null,
   "id": "f33bb49f",
   "metadata": {},
   "outputs": [],
   "source": [
    "y = dfT.iloc[:, 11].values\n",
    "y"
   ]
  },
  {
   "cell_type": "code",
   "execution_count": null,
   "id": "a4cf53d9",
   "metadata": {},
   "outputs": [],
   "source": [
    "## Label Enconder para tratamento de variáveis categóricas\n",
    "from sklearn.preprocessing import LabelEncoder"
   ]
  },
  {
   "cell_type": "code",
   "execution_count": null,
   "id": "0b948319",
   "metadata": {},
   "outputs": [],
   "source": [
    "dfT_X = X"
   ]
  },
  {
   "cell_type": "code",
   "execution_count": null,
   "id": "9f42e053",
   "metadata": {},
   "outputs": [],
   "source": [
    "dfT.columns"
   ]
  },
  {
   "cell_type": "code",
   "execution_count": null,
   "id": "62f4db90",
   "metadata": {},
   "outputs": [],
   "source": [
    "dfT_X"
   ]
  },
  {
   "cell_type": "code",
   "execution_count": null,
   "id": "51d70408",
   "metadata": {},
   "outputs": [],
   "source": [
    "label_enconder_sex = LabelEncoder()\n",
    "label_enconder_meds = LabelEncoder()\n",
    "label_enconder_surgery = LabelEncoder()\n",
    "label_enconder_tumor = LabelEncoder()\n",
    "label_enconder_target = LabelEncoder()"
   ]
  },
  {
   "cell_type": "code",
   "execution_count": null,
   "id": "7af7b777",
   "metadata": {},
   "outputs": [],
   "source": [
    "dfT_X"
   ]
  },
  {
   "cell_type": "code",
   "execution_count": null,
   "id": "bcacc957",
   "metadata": {},
   "outputs": [],
   "source": [
    "dfT_X[:,1] = label_enconder_sex.fit_transform(dfT_X[:,1])\n",
    "dfT_X[:,2] = label_enconder_meds.fit_transform(dfT_X[:,2])\n",
    "dfT_X[:,3] = label_enconder_surgery.fit_transform(dfT_X[:,3])\n",
    "dfT_X[:,4] = label_enconder_tumor.fit_transform(dfT_X[:,4])\n",
    "dfT_X[:,11] = label_enconder_tumor.fit_transform(dfT_X[:,11])"
   ]
  },
  {
   "cell_type": "code",
   "execution_count": null,
   "id": "0c337620",
   "metadata": {},
   "outputs": [],
   "source": []
  }
 ],
 "metadata": {
  "kernelspec": {
   "display_name": "Python 3 (ipykernel)",
   "language": "python",
   "name": "python3"
  },
  "language_info": {
   "codemirror_mode": {
    "name": "ipython",
    "version": 3
   },
   "file_extension": ".py",
   "mimetype": "text/x-python",
   "name": "python",
   "nbconvert_exporter": "python",
   "pygments_lexer": "ipython3",
   "version": "3.9.12"
  }
 },
 "nbformat": 4,
 "nbformat_minor": 5
}
