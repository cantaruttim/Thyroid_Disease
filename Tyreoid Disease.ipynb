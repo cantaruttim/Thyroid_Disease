{
 "cells": [
  {
   "cell_type": "code",
   "execution_count": 1,
   "id": "c373db91",
   "metadata": {},
   "outputs": [],
   "source": [
    "import pandas as pd\n",
    "import numpy as np\n",
    "import seaborn as sns\n",
    "import matplotlib.pyplot as plt\n",
    "import plotly.express as px"
   ]
  },
  {
   "cell_type": "code",
   "execution_count": 2,
   "id": "c49b625f",
   "metadata": {},
   "outputs": [],
   "source": [
    "dfT = pd.read_csv('./data/thyroidDF.csv')\n",
    "dfT.drop(columns=['patient_id'], inplace=True)"
   ]
  },
  {
   "cell_type": "code",
   "execution_count": 3,
   "id": "6edb374e",
   "metadata": {},
   "outputs": [
    {
     "data": {
      "image/png": "[encoded data removed]",
      "text/plain": [
       "<Figure size 432x288 with 1 Axes>"
      ]
     },
     "metadata": {
      "needs_background": "light"
     },
     "output_type": "display_data"
    }
   ],
   "source": [
    "sns.histplot(dfT['age'], kde=True, palette='mako');\n",
    "# dfT[dfT['age'] <= 0] >>>> sem idades negativas"
   ]
  },
  {
   "cell_type": "code",
   "execution_count": 4,
   "id": "b899efef",
   "metadata": {},
   "outputs": [
    {
     "name": "stderr",
     "output_type": "stream",
     "text": [
      "C:\\Users\\Matheus\\anaconda3\\lib\\site-packages\\seaborn\\_decorators.py:36: FutureWarning: Pass the following variable as a keyword arg: x. From version 0.12, the only valid positional argument will be `data`, and passing other arguments without an explicit keyword will result in an error or misinterpretation.\n",
      "  warnings.warn(\n"
     ]
    },
    {
     "data": {
      "image/png": "[encoded data removed]",
      "text/plain": [
       "<Figure size 432x288 with 1 Axes>"
      ]
     },
     "metadata": {
      "needs_background": "light"
     },
     "output_type": "display_data"
    }
   ],
   "source": [
    "sns.countplot(dfT['sex'], palette='mako');\n"
   ]
  },
  {
   "cell_type": "code",
   "execution_count": 5,
   "id": "43f32834",
   "metadata": {},
   "outputs": [
    {
     "name": "stderr",
     "output_type": "stream",
     "text": [
      "C:\\Users\\Matheus\\anaconda3\\lib\\site-packages\\seaborn\\_decorators.py:36: FutureWarning: Pass the following variable as a keyword arg: x. From version 0.12, the only valid positional argument will be `data`, and passing other arguments without an explicit keyword will result in an error or misinterpretation.\n",
      "  warnings.warn(\n"
     ]
    },
    {
     "data": {
      "image/png": "[encoded data removed]",
      "text/plain": [
       "<Figure size 432x288 with 1 Axes>"
      ]
     },
     "metadata": {
      "needs_background": "light"
     },
     "output_type": "display_data"
    }
   ],
   "source": [
    "# praticamente todas as mulheres do banco de dados estavam grávidas durante as análises\n",
    "\n",
    "sns.countplot(dfT['pregnant'], palette='mako');"
   ]
  },
  {
   "cell_type": "code",
   "execution_count": 6,
   "id": "b7454213",
   "metadata": {},
   "outputs": [
    {
     "data": {
      "text/plain": [
       "(          age       TSH        T3       TT4       T4U       FTI       TBG\n",
       " age  1.000000 -0.003979  0.004523  0.004122 -0.002045  0.004108 -0.122787\n",
       " TSH -0.003979  1.000000 -0.159372 -0.275915  0.075857 -0.275468 -0.117742\n",
       " T3   0.004523 -0.159372  1.000000  0.550381  0.345649  0.370423 -0.012619\n",
       " TT4  0.004122 -0.275915  0.550381  1.000000  0.368754  0.751199 -0.025716\n",
       " T4U -0.002045  0.075857  0.345649  0.368754  1.000000 -0.238970  0.614947\n",
       " FTI  0.004108 -0.275468  0.370423  0.751199 -0.238970  1.000000 -0.200290\n",
       " TBG -0.122787 -0.117742 -0.012619 -0.025716  0.614947 -0.200290  1.000000,\n",
       "               age         TSH         T3          TT4       T4U          FTI  \\\n",
       " age  1.401801e+06 -119.536798   4.586167   187.692631 -0.507961   211.558177   \n",
       " TSH -1.195368e+02  584.866153  -3.414804  -247.978573  0.373096  -273.335743   \n",
       " T3   4.586167e+00   -3.414804   0.787796    18.351183  0.060485    13.917380   \n",
       " TT4  1.876926e+02 -247.978573  18.351183  1407.950791  2.784093  1176.833232   \n",
       " T4U -5.079611e-01    0.373096   0.060485     2.784093  0.040144    -1.990209   \n",
       " FTI  2.115582e+02 -273.335743  13.917380  1176.833232 -1.990209  1726.539585   \n",
       " TBG -4.858929e+01  -20.626310  -0.227094   -17.278849  0.985006  -168.977750   \n",
       " \n",
       "             TBG  \n",
       " age  -48.589292  \n",
       " TSH  -20.626310  \n",
       " T3    -0.227094  \n",
       " TT4  -17.278849  \n",
       " T4U    0.985006  \n",
       " FTI -168.977750  \n",
       " TBG  444.387643  )"
      ]
     },
     "execution_count": 6,
     "metadata": {},
     "output_type": "execute_result"
    }
   ],
   "source": [
    "dfT.corr(), dfT.cov()"
   ]
  },
  {
   "cell_type": "code",
   "execution_count": 8,
   "id": "ecd9eee4",
   "metadata": {},
   "outputs": [
    {
     "data": {
      "text/plain": [
       "((9172, 30),\n",
       " Index(['age', 'sex', 'on_thyroxine', 'query_on_thyroxine',\n",
       "        'on_antithyroid_meds', 'sick', 'pregnant', 'thyroid_surgery',\n",
       "        'I131_treatment', 'query_hypothyroid', 'query_hyperthyroid', 'lithium',\n",
       "        'goitre', 'tumor', 'hypopituitary', 'psych', 'TSH_measured', 'TSH',\n",
       "        'T3_measured', 'T3', 'TT4_measured', 'TT4', 'T4U_measured', 'T4U',\n",
       "        'FTI_measured', 'FTI', 'TBG_measured', 'TBG', 'referral_source',\n",
       "        'target'],\n",
       "       dtype='object'))"
      ]
     },
     "execution_count": 8,
     "metadata": {},
     "output_type": "execute_result"
    }
   ],
   "source": [
    "dfT.shape, dfT.columns"
   ]
  },
  {
   "cell_type": "code",
   "execution_count": 9,
   "id": "ddd56a65",
   "metadata": {},
   "outputs": [
    {
     "data": {
      "text/plain": [
       "array([[29, 'F', 'f', ..., 'f', nan, 'other'],\n",
       "       [29, 'F', 'f', ..., 'f', nan, 'other'],\n",
       "       [41, 'F', 'f', ..., 't', 11.0, 'other'],\n",
       "       ...,\n",
       "       [69, 'M', 'f', ..., 'f', nan, 'SVI'],\n",
       "       [47, 'F', 'f', ..., 'f', nan, 'other'],\n",
       "       [31, 'M', 'f', ..., 'f', nan, 'other']], dtype=object)"
      ]
     },
     "execution_count": 9,
     "metadata": {},
     "output_type": "execute_result"
    }
   ],
   "source": [
    "X = dfT.iloc[:, 0:29].values\n",
    "X"
   ]
  },
  {
   "cell_type": "code",
   "execution_count": 10,
   "id": "f0156037",
   "metadata": {},
   "outputs": [
    {
     "data": {
      "text/plain": [
       "(9172, 29)"
      ]
     },
     "execution_count": 10,
     "metadata": {},
     "output_type": "execute_result"
    }
   ],
   "source": [
    "X.shape"
   ]
  },
  {
   "cell_type": "code",
   "execution_count": 11,
   "id": "952a8a0a",
   "metadata": {},
   "outputs": [
    {
     "data": {
      "text/plain": [
       "array(['-', '-', '-', ..., 'I', '-', '-'], dtype=object)"
      ]
     },
     "execution_count": 11,
     "metadata": {},
     "output_type": "execute_result"
    }
   ],
   "source": [
    "dfT['target'].values"
   ]
  },
  {
   "cell_type": "code",
   "execution_count": 12,
   "id": "a4cf53d9",
   "metadata": {},
   "outputs": [],
   "source": [
    "## Label Enconder para tratamento de variáveis categóricas\n",
    "\n",
    "from sklearn.preprocessing import LabelEncoder"
   ]
  },
  {
   "cell_type": "code",
   "execution_count": 13,
   "id": "bcacc957",
   "metadata": {},
   "outputs": [],
   "source": [
    "# Tratando os atributos categóricos\n",
    "\n",
    "label_enconder_sex = LabelEncoder()\n",
    "label_encoder_on_thyroxine = LabelEncoder()\n",
    "label_encoder_query_on_thyroxine = LabelEncoder()\n",
    "label_encoder_on_antithyroid_meds = LabelEncoder()\n",
    "label_encoder_sick = LabelEncoder()\n",
    "label_encoder_pregnant = LabelEncoder()\n",
    "label_encoder_thyroid_surgery = LabelEncoder()\n",
    "label_encoder_I131_treatment = LabelEncoder()\n",
    "label_encoder_query_hypothyroid = LabelEncoder()\n",
    "label_encoder_query_hyperthyroid = LabelEncoder()\n",
    "label_encoder_lithium = LabelEncoder()\n",
    "label_encoder_goitre = LabelEncoder()\n",
    "label_encoder_tumor = LabelEncoder()\n",
    "label_encoder_hypopituitary = LabelEncoder()\n",
    "label_encoder_psych = LabelEncoder()\n",
    "label_encoder_TSH_measured = LabelEncoder()\n",
    "label_encoder_TSH = LabelEncoder()\n",
    "label_encoder_T3_measured = LabelEncoder()\n",
    "label_encoder_T3 = LabelEncoder()\n",
    "label_encoder_TT4_measured = LabelEncoder()\n",
    "# label_encoder_T4U_measured = LabelEncoder() ## int\n",
    "label_encoder_FTI_measured = LabelEncoder()\n",
    "# label_encoder_FTI = LabelEncoder() ## int\n",
    "label_encoder_TBG_measured = LabelEncoder()\n",
    "# label_encoder_TBG = LabelEncoder() ## int\n",
    "label_encoder_referral_source = LabelEncoder()\n",
    "label_encoder_target = LabelEncoder()"
   ]
  },
  {
   "cell_type": "code",
   "execution_count": null,
   "id": "e98cf4df",
   "metadata": {},
   "outputs": [],
   "source": [
    "X[:,1] = label_enconder_sex.fit_transform(X[:,1])\n",
    "X[:,3] = label_encoder_on_thyroxine.fit_transform(X[:,3])\n",
    "X[:,5] = label_encoder_query_on_thyroxine.fit_transform(X[:,5])\n",
    "X[:,6] = label_encoder_on_antithyroid_meds.fit_transform(X[:,6])\n",
    "X[:,7] = label_encoder_sick.fit_transform(X[:,7])\n",
    "X[:,8] = label_encoder_pregnant.fit_transform(X[:,8])\n",
    "X[:,9] = label_encoder_thyroid_surgery.fit_transform(X[:,9])\n",
    "X[:,13] = label_encoder_I131_treatment.fit_transform(X[:,13])\n",
    "X[:,14] = label_encoder_query_hypothyroid.fit_transform(X[:,14])\n",
    "X[:,15] = label_encoder_query_hyperthyroid.fit_transform(X[:,15])\n",
    "X[:,16] = label_encoder_lithium.fit_transform(X[:,16])\n",
    "X[:,17] = label_encoder_goitre.fit_transform(X[:,17])\n",
    "X[:,18] = label_encoder_tumor.fit_transform(X[:,18])\n",
    "X[:,19] = label_encoder_hypopituitary.fit_transform(X[:,19])\n",
    "X[:,20] = label_encoder_psych.fit_transform(X[:,20])\n",
    "X[:,21]= label_encoder_TSH_measured.fit_transform(X[:,21])\n",
    "X[:,22]= label_encoder_TSH.fit_transform(X[:,22])\n",
    "X[:,23] = label_encoder_T3_measured.fit_transform(X[:,23])\n",
    "X[:,24]= label_encoder_T3.fit_transform(X[:,24])\n",
    "X[:,25]= label_encoder_TT4_measured.fit_transform(X[:,25])\n",
    "X[:,26]=label_encoder_FTI_measured.fit_transform(X[:,26])\n",
    "X[:,27]= label_encoder_TBG_measured.fit_transform(X[:,27])\n",
    "X[:,28]= label_encoder_referral_source.fit_transform(X[:,28])\n",
    "#y[:,29] = label_encoder_target.fit_transform(y[:,29])"
   ]
  },
  {
   "cell_type": "code",
   "execution_count": null,
   "id": "17cc922c",
   "metadata": {},
   "outputs": [],
   "source": [
    "y = dfT.iloc[:, 29].values\n",
    "y"
   ]
  },
  {
   "cell_type": "code",
   "execution_count": null,
   "id": "92ae4bee",
   "metadata": {},
   "outputs": [],
   "source": [
    "dfT.describe()"
   ]
  },
  {
   "cell_type": "code",
   "execution_count": null,
   "id": "25867f1d",
   "metadata": {},
   "outputs": [],
   "source": [
    "# query_hypothyroid - whether patient believes they have hypothyroid (bool)\n",
    "# query_hyperthyroid - whether patient believes they have hyperthyroid (bool)\n",
    "\n",
    "dfT.isnull().sum()"
   ]
  }
 ],
 "metadata": {
  "kernelspec": {
   "display_name": "Python 3 (ipykernel)",
   "language": "python",
   "name": "python3"
  },
  "language_info": {
   "codemirror_mode": {
    "name": "ipython",
    "version": 3
   },
   "file_extension": ".py",
   "mimetype": "text/x-python",
   "name": "python",
   "nbconvert_exporter": "python",
   "pygments_lexer": "ipython3",
   "version": "3.9.12"
  }
 },
 "nbformat": 4,
 "nbformat_minor": 5
}
