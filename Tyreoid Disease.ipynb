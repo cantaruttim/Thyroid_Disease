{
 "cells": [
  {
   "cell_type": "code",
   "execution_count": null,
   "id": "c373db91",
   "metadata": {},
   "outputs": [],
   "source": [
    "import pandas as pd\n",
    "import numpy as np\n",
    "import seaborn as sns\n",
    "import matplotlib.pyplot as plt\n",
    "import plotly.express as px"
   ]
  },
  {
   "cell_type": "code",
   "execution_count": null,
   "id": "c49b625f",
   "metadata": {},
   "outputs": [],
   "source": [
    "dfT = pd.read_csv('./data/thyroidDF.csv')\n",
    "dfT.drop(columns=['patient_id'], inplace=True)"
   ]
  },
  {
   "cell_type": "code",
   "execution_count": null,
   "id": "c0163a03",
   "metadata": {},
   "outputs": [],
   "source": [
    "dfT.shape, dfT.columns\n",
    "\n",
    "# indices que são numéricos\n",
    "# 0 17 19 21 23 25 27"
   ]
  },
  {
   "cell_type": "code",
   "execution_count": null,
   "id": "aecfaaec",
   "metadata": {},
   "outputs": [],
   "source": [
    "# Esse valor tem os dados desbalanceados devido uma quantidade de NaN presente\n",
    "# E por termos valores vazios no dataset\n",
    "\n",
    "dfT.mean()"
   ]
  },
  {
   "cell_type": "code",
   "execution_count": null,
   "id": "1477ff2d",
   "metadata": {},
   "outputs": [],
   "source": [
    "dfT.describe()"
   ]
  },
  {
   "cell_type": "code",
   "execution_count": null,
   "id": "fbde342a",
   "metadata": {},
   "outputs": [],
   "source": [
    "f, ax = plt.subplots(figsize=(10, 8))\n",
    "sns.heatmap(dfT.corr(), annot=True, cmap=\"magma\");"
   ]
  },
  {
   "cell_type": "code",
   "execution_count": null,
   "id": "6edb374e",
   "metadata": {},
   "outputs": [],
   "source": [
    "sns.countplot(dfT['age'], palette='mako');\n",
    "# dfT[dfT['age'] <= 0] >>>> sem idades negativas"
   ]
  },
  {
   "cell_type": "code",
   "execution_count": null,
   "id": "6e5dcd7e",
   "metadata": {},
   "outputs": [],
   "source": [
    "plt.hist(x = dfT['age'], color='lightgreen');"
   ]
  },
  {
   "cell_type": "code",
   "execution_count": null,
   "id": "afe22a0c",
   "metadata": {},
   "outputs": [],
   "source": [
    "# praticamente todas as mulheres do banco de dados estavam grávidas durante as análises\n",
    "sns.countplot(dfT['pregnant'], palette='mako');"
   ]
  },
  {
   "cell_type": "code",
   "execution_count": null,
   "id": "a91c98ea",
   "metadata": {},
   "outputs": [],
   "source": [
    "sns.countplot(dfT['sex'], palette='mako');"
   ]
  },
  {
   "cell_type": "code",
   "execution_count": null,
   "id": "24ef57a7",
   "metadata": {},
   "outputs": [],
   "source": [
    "# Thyroxine-binding globulin (TBG), X[:,6] is one of three major transport proteins, which are primarily \n",
    "# responsible for binding to and transporting thyroid hormones to the necessary tissues\n",
    "\n",
    "f, ax = plt.subplots(figsize=(8, 8))\n",
    "sns.scatterplot(data=X, x=X[:, 0], y=X[:, 6], s=25, color='red');"
   ]
  },
  {
   "cell_type": "code",
   "execution_count": null,
   "id": "1aaef28e",
   "metadata": {},
   "outputs": [],
   "source": [
    "X = dfT.iloc[:, [0, 17, 19, 21, 23, 25, 27]].values\n",
    "X"
   ]
  },
  {
   "cell_type": "code",
   "execution_count": null,
   "id": "8f38c60c",
   "metadata": {},
   "outputs": [],
   "source": [
    "X"
   ]
  },
  {
   "cell_type": "code",
   "execution_count": null,
   "id": "3ad37e02",
   "metadata": {},
   "outputs": [],
   "source": [
    "X[:,0].min(), X[:,0].max()"
   ]
  },
  {
   "cell_type": "code",
   "execution_count": null,
   "id": "d6626867",
   "metadata": {},
   "outputs": [],
   "source": [
    "X[:, 0].min(), X[:, 0].max()"
   ]
  },
  {
   "cell_type": "code",
   "execution_count": null,
   "id": "fe9fdf5d",
   "metadata": {},
   "outputs": [],
   "source": [
    "y = dfT.iloc[:, 29].values\n",
    "y"
   ]
  },
  {
   "cell_type": "code",
   "execution_count": null,
   "id": "ec8552f8",
   "metadata": {},
   "outputs": [],
   "source": [
    "# Escalonamento das variáeis\n",
    "from sklearn.preprocessing import StandardScaler\n",
    "scalar = StandardScaler()\n",
    "X = scalar.fit_transform(X)"
   ]
  },
  {
   "cell_type": "code",
   "execution_count": null,
   "id": "e6332b8d",
   "metadata": {},
   "outputs": [],
   "source": [
    "X"
   ]
  },
  {
   "cell_type": "code",
   "execution_count": null,
   "id": "a4cf53d9",
   "metadata": {},
   "outputs": [],
   "source": [
    "## Label Enconder para tratamento de variáveis categóricas\n",
    "from sklearn.preprocessing import LabelEncoder"
   ]
  },
  {
   "cell_type": "code",
   "execution_count": null,
   "id": "eaa6bbee",
   "metadata": {},
   "outputs": [],
   "source": [
    "dfT_X = dfT.iloc[:, 0:29].values"
   ]
  },
  {
   "cell_type": "code",
   "execution_count": null,
   "id": "6f2c78fd",
   "metadata": {},
   "outputs": [],
   "source": [
    "label_enconder_sex = LabelEncoder()\n",
    "label_encoder_TBG = LabelEncoder()"
   ]
  },
  {
   "cell_type": "code",
   "execution_count": null,
   "id": "bcacc957",
   "metadata": {},
   "outputs": [],
   "source": [
    "dfT_X[:,1] = label_enconder_sex.fit_transform(dfT_X[:,1])\n",
    "dfT_X[:,27]= label_encoder_TBG.fit_transform(dfT_X[:,27])"
   ]
  },
  {
   "cell_type": "code",
   "execution_count": null,
   "id": "9ea9db4d",
   "metadata": {},
   "outputs": [],
   "source": [
    "dfT_X"
   ]
  }
 ],
 "metadata": {
  "kernelspec": {
   "display_name": "Python 3 (ipykernel)",
   "language": "python",
   "name": "python3"
  },
  "language_info": {
   "codemirror_mode": {
    "name": "ipython",
    "version": 3
   },
   "file_extension": ".py",
   "mimetype": "text/x-python",
   "name": "python",
   "nbconvert_exporter": "python",
   "pygments_lexer": "ipython3",
   "version": "3.9.12"
  }
 },
 "nbformat": 4,
 "nbformat_minor": 5
}
