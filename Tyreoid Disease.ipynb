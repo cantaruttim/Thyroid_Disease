{
 "cells": [
  {
   "cell_type": "code",
   "execution_count": 1,
   "id": "c373db91",
   "metadata": {},
   "outputs": [],
   "source": [
    "import pandas as pd\n",
    "import numpy as np\n",
    "import seaborn as sns\n",
    "import matplotlib.pyplot as plt\n",
    "import plotly.express as px"
   ]
  },
  {
   "cell_type": "code",
   "execution_count": 2,
   "id": "c49b625f",
   "metadata": {},
   "outputs": [],
   "source": [
    "dfT = pd.read_csv('./data/thyroidDF.csv')\n",
    "dfT.drop(columns=['patient_id'], inplace=True)"
   ]
  },
  {
   "cell_type": "code",
   "execution_count": 74,
   "id": "be76641a",
   "metadata": {},
   "outputs": [
    {
     "data": {
      "text/html": [
       "<div>\n",
       "<style scoped>\n",
       "    .dataframe tbody tr th:only-of-type {\n",
       "        vertical-align: middle;\n",
       "    }\n",
       "\n",
       "    .dataframe tbody tr th {\n",
       "        vertical-align: top;\n",
       "    }\n",
       "\n",
       "    .dataframe thead th {\n",
       "        text-align: right;\n",
       "    }\n",
       "</style>\n",
       "<table border=\"1\" class=\"dataframe\">\n",
       "  <thead>\n",
       "    <tr style=\"text-align: right;\">\n",
       "      <th></th>\n",
       "      <th>age</th>\n",
       "      <th>sex</th>\n",
       "      <th>on_thyroxine</th>\n",
       "      <th>query_on_thyroxine</th>\n",
       "      <th>on_antithyroid_meds</th>\n",
       "      <th>sick</th>\n",
       "      <th>pregnant</th>\n",
       "      <th>thyroid_surgery</th>\n",
       "      <th>I131_treatment</th>\n",
       "      <th>query_hypothyroid</th>\n",
       "      <th>...</th>\n",
       "      <th>TT4_measured</th>\n",
       "      <th>TT4</th>\n",
       "      <th>T4U_measured</th>\n",
       "      <th>T4U</th>\n",
       "      <th>FTI_measured</th>\n",
       "      <th>FTI</th>\n",
       "      <th>TBG_measured</th>\n",
       "      <th>TBG</th>\n",
       "      <th>referral_source</th>\n",
       "      <th>target</th>\n",
       "    </tr>\n",
       "  </thead>\n",
       "  <tbody>\n",
       "    <tr>\n",
       "      <th>0</th>\n",
       "      <td>29</td>\n",
       "      <td>F</td>\n",
       "      <td>f</td>\n",
       "      <td>f</td>\n",
       "      <td>f</td>\n",
       "      <td>f</td>\n",
       "      <td>f</td>\n",
       "      <td>f</td>\n",
       "      <td>f</td>\n",
       "      <td>t</td>\n",
       "      <td>...</td>\n",
       "      <td>f</td>\n",
       "      <td>NaN</td>\n",
       "      <td>f</td>\n",
       "      <td>NaN</td>\n",
       "      <td>f</td>\n",
       "      <td>NaN</td>\n",
       "      <td>f</td>\n",
       "      <td>NaN</td>\n",
       "      <td>other</td>\n",
       "      <td>-</td>\n",
       "    </tr>\n",
       "    <tr>\n",
       "      <th>1</th>\n",
       "      <td>29</td>\n",
       "      <td>F</td>\n",
       "      <td>f</td>\n",
       "      <td>f</td>\n",
       "      <td>f</td>\n",
       "      <td>f</td>\n",
       "      <td>f</td>\n",
       "      <td>f</td>\n",
       "      <td>f</td>\n",
       "      <td>f</td>\n",
       "      <td>...</td>\n",
       "      <td>t</td>\n",
       "      <td>128.0</td>\n",
       "      <td>f</td>\n",
       "      <td>NaN</td>\n",
       "      <td>f</td>\n",
       "      <td>NaN</td>\n",
       "      <td>f</td>\n",
       "      <td>NaN</td>\n",
       "      <td>other</td>\n",
       "      <td>-</td>\n",
       "    </tr>\n",
       "    <tr>\n",
       "      <th>2</th>\n",
       "      <td>41</td>\n",
       "      <td>F</td>\n",
       "      <td>f</td>\n",
       "      <td>f</td>\n",
       "      <td>f</td>\n",
       "      <td>f</td>\n",
       "      <td>f</td>\n",
       "      <td>f</td>\n",
       "      <td>f</td>\n",
       "      <td>f</td>\n",
       "      <td>...</td>\n",
       "      <td>f</td>\n",
       "      <td>NaN</td>\n",
       "      <td>f</td>\n",
       "      <td>NaN</td>\n",
       "      <td>f</td>\n",
       "      <td>NaN</td>\n",
       "      <td>t</td>\n",
       "      <td>11.0</td>\n",
       "      <td>other</td>\n",
       "      <td>-</td>\n",
       "    </tr>\n",
       "    <tr>\n",
       "      <th>3</th>\n",
       "      <td>36</td>\n",
       "      <td>F</td>\n",
       "      <td>f</td>\n",
       "      <td>f</td>\n",
       "      <td>f</td>\n",
       "      <td>f</td>\n",
       "      <td>f</td>\n",
       "      <td>f</td>\n",
       "      <td>f</td>\n",
       "      <td>f</td>\n",
       "      <td>...</td>\n",
       "      <td>f</td>\n",
       "      <td>NaN</td>\n",
       "      <td>f</td>\n",
       "      <td>NaN</td>\n",
       "      <td>f</td>\n",
       "      <td>NaN</td>\n",
       "      <td>t</td>\n",
       "      <td>26.0</td>\n",
       "      <td>other</td>\n",
       "      <td>-</td>\n",
       "    </tr>\n",
       "    <tr>\n",
       "      <th>4</th>\n",
       "      <td>32</td>\n",
       "      <td>F</td>\n",
       "      <td>f</td>\n",
       "      <td>f</td>\n",
       "      <td>f</td>\n",
       "      <td>f</td>\n",
       "      <td>f</td>\n",
       "      <td>f</td>\n",
       "      <td>f</td>\n",
       "      <td>f</td>\n",
       "      <td>...</td>\n",
       "      <td>f</td>\n",
       "      <td>NaN</td>\n",
       "      <td>f</td>\n",
       "      <td>NaN</td>\n",
       "      <td>f</td>\n",
       "      <td>NaN</td>\n",
       "      <td>t</td>\n",
       "      <td>36.0</td>\n",
       "      <td>other</td>\n",
       "      <td>S</td>\n",
       "    </tr>\n",
       "    <tr>\n",
       "      <th>...</th>\n",
       "      <td>...</td>\n",
       "      <td>...</td>\n",
       "      <td>...</td>\n",
       "      <td>...</td>\n",
       "      <td>...</td>\n",
       "      <td>...</td>\n",
       "      <td>...</td>\n",
       "      <td>...</td>\n",
       "      <td>...</td>\n",
       "      <td>...</td>\n",
       "      <td>...</td>\n",
       "      <td>...</td>\n",
       "      <td>...</td>\n",
       "      <td>...</td>\n",
       "      <td>...</td>\n",
       "      <td>...</td>\n",
       "      <td>...</td>\n",
       "      <td>...</td>\n",
       "      <td>...</td>\n",
       "      <td>...</td>\n",
       "      <td>...</td>\n",
       "    </tr>\n",
       "    <tr>\n",
       "      <th>9167</th>\n",
       "      <td>56</td>\n",
       "      <td>M</td>\n",
       "      <td>f</td>\n",
       "      <td>f</td>\n",
       "      <td>f</td>\n",
       "      <td>f</td>\n",
       "      <td>f</td>\n",
       "      <td>f</td>\n",
       "      <td>f</td>\n",
       "      <td>f</td>\n",
       "      <td>...</td>\n",
       "      <td>t</td>\n",
       "      <td>64.0</td>\n",
       "      <td>t</td>\n",
       "      <td>0.83</td>\n",
       "      <td>t</td>\n",
       "      <td>77.0</td>\n",
       "      <td>f</td>\n",
       "      <td>NaN</td>\n",
       "      <td>SVI</td>\n",
       "      <td>-</td>\n",
       "    </tr>\n",
       "    <tr>\n",
       "      <th>9168</th>\n",
       "      <td>22</td>\n",
       "      <td>M</td>\n",
       "      <td>f</td>\n",
       "      <td>f</td>\n",
       "      <td>f</td>\n",
       "      <td>f</td>\n",
       "      <td>f</td>\n",
       "      <td>f</td>\n",
       "      <td>f</td>\n",
       "      <td>f</td>\n",
       "      <td>...</td>\n",
       "      <td>t</td>\n",
       "      <td>91.0</td>\n",
       "      <td>t</td>\n",
       "      <td>0.92</td>\n",
       "      <td>t</td>\n",
       "      <td>99.0</td>\n",
       "      <td>f</td>\n",
       "      <td>NaN</td>\n",
       "      <td>SVI</td>\n",
       "      <td>-</td>\n",
       "    </tr>\n",
       "    <tr>\n",
       "      <th>9169</th>\n",
       "      <td>69</td>\n",
       "      <td>M</td>\n",
       "      <td>f</td>\n",
       "      <td>f</td>\n",
       "      <td>f</td>\n",
       "      <td>f</td>\n",
       "      <td>f</td>\n",
       "      <td>f</td>\n",
       "      <td>f</td>\n",
       "      <td>f</td>\n",
       "      <td>...</td>\n",
       "      <td>t</td>\n",
       "      <td>113.0</td>\n",
       "      <td>t</td>\n",
       "      <td>1.27</td>\n",
       "      <td>t</td>\n",
       "      <td>89.0</td>\n",
       "      <td>f</td>\n",
       "      <td>NaN</td>\n",
       "      <td>SVI</td>\n",
       "      <td>I</td>\n",
       "    </tr>\n",
       "    <tr>\n",
       "      <th>9170</th>\n",
       "      <td>47</td>\n",
       "      <td>F</td>\n",
       "      <td>f</td>\n",
       "      <td>f</td>\n",
       "      <td>f</td>\n",
       "      <td>f</td>\n",
       "      <td>f</td>\n",
       "      <td>f</td>\n",
       "      <td>f</td>\n",
       "      <td>f</td>\n",
       "      <td>...</td>\n",
       "      <td>t</td>\n",
       "      <td>75.0</td>\n",
       "      <td>t</td>\n",
       "      <td>0.85</td>\n",
       "      <td>t</td>\n",
       "      <td>88.0</td>\n",
       "      <td>f</td>\n",
       "      <td>NaN</td>\n",
       "      <td>other</td>\n",
       "      <td>-</td>\n",
       "    </tr>\n",
       "    <tr>\n",
       "      <th>9171</th>\n",
       "      <td>31</td>\n",
       "      <td>M</td>\n",
       "      <td>f</td>\n",
       "      <td>f</td>\n",
       "      <td>f</td>\n",
       "      <td>f</td>\n",
       "      <td>f</td>\n",
       "      <td>f</td>\n",
       "      <td>f</td>\n",
       "      <td>t</td>\n",
       "      <td>...</td>\n",
       "      <td>t</td>\n",
       "      <td>66.0</td>\n",
       "      <td>t</td>\n",
       "      <td>1.02</td>\n",
       "      <td>t</td>\n",
       "      <td>65.0</td>\n",
       "      <td>f</td>\n",
       "      <td>NaN</td>\n",
       "      <td>other</td>\n",
       "      <td>-</td>\n",
       "    </tr>\n",
       "  </tbody>\n",
       "</table>\n",
       "<p>9172 rows × 30 columns</p>\n",
       "</div>"
      ],
      "text/plain": [
       "      age sex on_thyroxine query_on_thyroxine on_antithyroid_meds sick  \\\n",
       "0      29   F            f                  f                   f    f   \n",
       "1      29   F            f                  f                   f    f   \n",
       "2      41   F            f                  f                   f    f   \n",
       "3      36   F            f                  f                   f    f   \n",
       "4      32   F            f                  f                   f    f   \n",
       "...   ...  ..          ...                ...                 ...  ...   \n",
       "9167   56   M            f                  f                   f    f   \n",
       "9168   22   M            f                  f                   f    f   \n",
       "9169   69   M            f                  f                   f    f   \n",
       "9170   47   F            f                  f                   f    f   \n",
       "9171   31   M            f                  f                   f    f   \n",
       "\n",
       "     pregnant thyroid_surgery I131_treatment query_hypothyroid  ...  \\\n",
       "0           f               f              f                 t  ...   \n",
       "1           f               f              f                 f  ...   \n",
       "2           f               f              f                 f  ...   \n",
       "3           f               f              f                 f  ...   \n",
       "4           f               f              f                 f  ...   \n",
       "...       ...             ...            ...               ...  ...   \n",
       "9167        f               f              f                 f  ...   \n",
       "9168        f               f              f                 f  ...   \n",
       "9169        f               f              f                 f  ...   \n",
       "9170        f               f              f                 f  ...   \n",
       "9171        f               f              f                 t  ...   \n",
       "\n",
       "     TT4_measured    TT4 T4U_measured   T4U FTI_measured   FTI TBG_measured  \\\n",
       "0               f    NaN            f   NaN            f   NaN            f   \n",
       "1               t  128.0            f   NaN            f   NaN            f   \n",
       "2               f    NaN            f   NaN            f   NaN            t   \n",
       "3               f    NaN            f   NaN            f   NaN            t   \n",
       "4               f    NaN            f   NaN            f   NaN            t   \n",
       "...           ...    ...          ...   ...          ...   ...          ...   \n",
       "9167            t   64.0            t  0.83            t  77.0            f   \n",
       "9168            t   91.0            t  0.92            t  99.0            f   \n",
       "9169            t  113.0            t  1.27            t  89.0            f   \n",
       "9170            t   75.0            t  0.85            t  88.0            f   \n",
       "9171            t   66.0            t  1.02            t  65.0            f   \n",
       "\n",
       "       TBG referral_source  target  \n",
       "0      NaN           other       -  \n",
       "1      NaN           other       -  \n",
       "2     11.0           other       -  \n",
       "3     26.0           other       -  \n",
       "4     36.0           other       S  \n",
       "...    ...             ...     ...  \n",
       "9167   NaN             SVI       -  \n",
       "9168   NaN             SVI       -  \n",
       "9169   NaN             SVI       I  \n",
       "9170   NaN           other       -  \n",
       "9171   NaN           other       -  \n",
       "\n",
       "[9172 rows x 30 columns]"
      ]
     },
     "execution_count": 74,
     "metadata": {},
     "output_type": "execute_result"
    }
   ],
   "source": [
    "dfT"
   ]
  },
  {
   "cell_type": "code",
   "execution_count": 96,
   "id": "7feb2089",
   "metadata": {},
   "outputs": [
    {
     "data": {
      "image/png": "[encoded data removed]",
      "text/plain": [
       "<Figure size 1080x720 with 2 Axes>"
      ]
     },
     "metadata": {
      "needs_background": "light"
     },
     "output_type": "display_data"
    }
   ],
   "source": [
    "f, ax = plt.subplots(figsize=(15, 10))\n",
    "sns.heatmap(dfT.corr(), annot=True, cmap=\"magma\");"
   ]
  },
  {
   "cell_type": "code",
   "execution_count": 13,
   "id": "6edb374e",
   "metadata": {},
   "outputs": [
    {
     "name": "stderr",
     "output_type": "stream",
     "text": [
      "C:\\Users\\Matheus\\anaconda3\\lib\\site-packages\\seaborn\\_decorators.py:36: FutureWarning: Pass the following variable as a keyword arg: x. From version 0.12, the only valid positional argument will be `data`, and passing other arguments without an explicit keyword will result in an error or misinterpretation.\n",
      "  warnings.warn(\n"
     ]
    },
    {
     "data": {
      "image/png": "[encoded data removed]",
      "text/plain": [
       "<Figure size 432x288 with 1 Axes>"
      ]
     },
     "metadata": {
      "needs_background": "light"
     },
     "output_type": "display_data"
    }
   ],
   "source": [
    "sns.countplot(dfT['age'], palette='mako');\n",
    "# dfT[dfT['age'] <= 0] >>>> sem idades negativas"
   ]
  },
  {
   "cell_type": "code",
   "execution_count": 70,
   "id": "33b9fc5f",
   "metadata": {},
   "outputs": [
    {
     "data": {
      "image/png": "[encoded data removed]",
      "text/plain": [
       "<Figure size 432x288 with 1 Axes>"
      ]
     },
     "metadata": {
      "needs_background": "light"
     },
     "output_type": "display_data"
    }
   ],
   "source": [
    "plt.hist(x = dfT['age'], color='lightgreen');"
   ]
  },
  {
   "cell_type": "code",
   "execution_count": 61,
   "id": "c130e3cd",
   "metadata": {},
   "outputs": [
    {
     "name": "stderr",
     "output_type": "stream",
     "text": [
      "C:\\Users\\Matheus\\anaconda3\\lib\\site-packages\\seaborn\\_decorators.py:36: FutureWarning: Pass the following variable as a keyword arg: x. From version 0.12, the only valid positional argument will be `data`, and passing other arguments without an explicit keyword will result in an error or misinterpretation.\n",
      "  warnings.warn(\n"
     ]
    },
    {
     "data": {
      "image/png": "[encoded data removed]",
      "text/plain": [
       "<Figure size 432x288 with 1 Axes>"
      ]
     },
     "metadata": {
      "needs_background": "light"
     },
     "output_type": "display_data"
    }
   ],
   "source": [
    "sns.countplot(dfT['sex'], palette='mako');"
   ]
  },
  {
   "cell_type": "code",
   "execution_count": 60,
   "id": "48117957",
   "metadata": {},
   "outputs": [
    {
     "name": "stderr",
     "output_type": "stream",
     "text": [
      "C:\\Users\\Matheus\\AppData\\Local\\Temp\\ipykernel_1908\\108886461.py:1: FutureWarning: Dropping of nuisance columns in DataFrame reductions (with 'numeric_only=None') is deprecated; in a future version this will raise TypeError.  Select only valid columns before calling the reduction.\n",
      "  dfT.mean()\n"
     ]
    },
    {
     "data": {
      "text/plain": [
       "age     73.555822\n",
       "TSH      5.218403\n",
       "T3       1.970629\n",
       "TT4    108.700305\n",
       "T4U      0.976056\n",
       "FTI    113.640746\n",
       "TBG     29.870057\n",
       "dtype: float64"
      ]
     },
     "execution_count": 60,
     "metadata": {},
     "output_type": "execute_result"
    }
   ],
   "source": [
    "dfT.mean()"
   ]
  },
  {
   "cell_type": "code",
   "execution_count": 63,
   "id": "f5acc6f1",
   "metadata": {},
   "outputs": [],
   "source": [
    "## Label Enconder para tratamento de variáveis categóricas\n",
    "from sklearn.preprocessing import LabelEncoder\n",
    "\n",
    "# Tratando os atributos categóricos\n",
    "\n",
    "label_enconder_sex = LabelEncoder()\n",
    "label_encoder_on_thyroxine = LabelEncoder()\n",
    "label_encoder_query_on_thyroxine = LabelEncoder()\n",
    "label_encoder_on_antithyroid_meds = LabelEncoder()\n",
    "label_encoder_sick = LabelEncoder()\n",
    "label_encoder_pregnant = LabelEncoder()\n",
    "label_encoder_thyroid_surgery = LabelEncoder()\n",
    "label_encoder_I131_treatment = LabelEncoder()\n",
    "label_encoder_query_hypothyroid = LabelEncoder()\n",
    "label_encoder_query_hyperthyroid = LabelEncoder()\n",
    "label_encoder_lithium = LabelEncoder()\n",
    "label_encoder_goitre = LabelEncoder()\n",
    "label_encoder_tumor = LabelEncoder()\n",
    "label_encoder_hypopituitary = LabelEncoder()\n",
    "label_encoder_psych = LabelEncoder()\n",
    "label_encoder_TSH_measured = LabelEncoder()\n",
    "label_encoder_TSH = LabelEncoder()\n",
    "label_encoder_T3_measured = LabelEncoder()\n",
    "label_encoder_T3 = LabelEncoder()\n",
    "label_encoder_TT4_measured = LabelEncoder()\n",
    "# label_encoder_T4U_measured = LabelEncoder() ## int\n",
    "label_encoder_FTI_measured = LabelEncoder()\n",
    "# label_encoder_FTI = LabelEncoder() ## int\n",
    "label_encoder_TBG_measured = LabelEncoder()\n",
    "# label_encoder_TBG = LabelEncoder() ## int\n",
    "label_encoder_referral_source = LabelEncoder()\n",
    "label_encoder_target = LabelEncoder()\n",
    "\n",
    "X[:,1] = label_enconder_sex.fit_transform(X[:,1])\n",
    "X[:,3] = label_encoder_on_thyroxine.fit_transform(X[:,3])\n",
    "X[:,5] = label_encoder_query_on_thyroxine.fit_transform(X[:,5])\n",
    "X[:,6] = label_encoder_on_antithyroid_meds.fit_transform(X[:,6])\n",
    "X[:,7] = label_encoder_sick.fit_transform(X[:,7])\n",
    "X[:,8] = label_encoder_pregnant.fit_transform(X[:,8])\n",
    "X[:,9] = label_encoder_thyroid_surgery.fit_transform(X[:,9])\n",
    "X[:,13] = label_encoder_I131_treatment.fit_transform(X[:,13])\n",
    "X[:,14] = label_encoder_query_hypothyroid.fit_transform(X[:,14])\n",
    "X[:,15] = label_encoder_query_hyperthyroid.fit_transform(X[:,15])\n",
    "X[:,16] = label_encoder_lithium.fit_transform(X[:,16])\n",
    "X[:,17] = label_encoder_goitre.fit_transform(X[:,17])\n",
    "X[:,18] = label_encoder_tumor.fit_transform(X[:,18])\n",
    "X[:,19] = label_encoder_hypopituitary.fit_transform(X[:,19])\n",
    "X[:,20] = label_encoder_psych.fit_transform(X[:,20])\n",
    "X[:,21]= label_encoder_TSH_measured.fit_transform(X[:,21])\n",
    "X[:,22]= label_encoder_TSH.fit_transform(X[:,22])\n",
    "X[:,23] = label_encoder_T3_measured.fit_transform(X[:,23])\n",
    "X[:,24]= label_encoder_T3.fit_transform(X[:,24])\n",
    "X[:,25]= label_encoder_TT4_measured.fit_transform(X[:,25])\n",
    "X[:,26]=label_encoder_FTI_measured.fit_transform(X[:,26])\n",
    "X[:,27]= label_encoder_TBG_measured.fit_transform(X[:,27])\n",
    "X[:,28]= label_encoder_referral_source.fit_transform(X[:,28])\n",
    "#y[:,29] = label_encoder_target.fit_transform(y[:,29])"
   ]
  },
  {
   "cell_type": "code",
   "execution_count": 73,
   "id": "e5e9d35d",
   "metadata": {},
   "outputs": [
    {
     "data": {
      "text/plain": [
       "array([[29, 'F', 'f', ..., 'f', nan, 'other'],\n",
       "       [29, 'F', 'f', ..., 'f', nan, 'other'],\n",
       "       [41, 'F', 'f', ..., 't', 11.0, 'other'],\n",
       "       ...,\n",
       "       [69, 'M', 'f', ..., 'f', nan, 'SVI'],\n",
       "       [47, 'F', 'f', ..., 'f', nan, 'other'],\n",
       "       [31, 'M', 'f', ..., 'f', nan, 'other']], dtype=object)"
      ]
     },
     "execution_count": 73,
     "metadata": {},
     "output_type": "execute_result"
    }
   ],
   "source": [
    "X = dfT.iloc[:, 0:29].values\n",
    "X"
   ]
  },
  {
   "cell_type": "code",
   "execution_count": 72,
   "id": "3213b958",
   "metadata": {},
   "outputs": [],
   "source": [
    "# Escalonamento das variáeis\n",
    "from sklearn.preprocessing import StandardScaler\n"
   ]
  },
  {
   "cell_type": "code",
   "execution_count": null,
   "id": "a89da3c3",
   "metadata": {},
   "outputs": [],
   "source": [
    "scalar = StandardScaler()\n",
    "X = scalar.fit_transform(X)"
   ]
  },
  {
   "cell_type": "code",
   "execution_count": 20,
   "id": "43f32834",
   "metadata": {},
   "outputs": [
    {
     "name": "stderr",
     "output_type": "stream",
     "text": [
      "C:\\Users\\Matheus\\anaconda3\\lib\\site-packages\\seaborn\\_decorators.py:36: FutureWarning: Pass the following variable as a keyword arg: x. From version 0.12, the only valid positional argument will be `data`, and passing other arguments without an explicit keyword will result in an error or misinterpretation.\n",
      "  warnings.warn(\n"
     ]
    },
    {
     "data": {
      "image/png": "[encoded data removed]",
      "text/plain": [
       "<Figure size 432x288 with 1 Axes>"
      ]
     },
     "metadata": {
      "needs_background": "light"
     },
     "output_type": "display_data"
    }
   ],
   "source": [
    "# praticamente todas as mulheres do banco de dados estavam grávidas durante as análises\n",
    "\n",
    "sns.countplot(dfT['pregnant'], palette='mako');"
   ]
  },
  {
   "cell_type": "code",
   "execution_count": 78,
   "id": "b3e8c77b",
   "metadata": {},
   "outputs": [
    {
     "data": {
      "text/plain": [
       "<AxesSubplot:>"
      ]
     },
     "execution_count": 78,
     "metadata": {},
     "output_type": "execute_result"
    },
    {
     "data": {
      "image/png": "[encoded data removed]",
      "text/plain": [
       "<Figure size 432x288 with 2 Axes>"
      ]
     },
     "metadata": {
      "needs_background": "light"
     },
     "output_type": "display_data"
    }
   ],
   "source": [
    "sns.heatmap(dfT.corr())"
   ]
  },
  {
   "cell_type": "code",
   "execution_count": 22,
   "id": "ecd9eee4",
   "metadata": {},
   "outputs": [
    {
     "data": {
      "text/plain": [
       "((9172, 30),\n",
       " Index(['age', 'sex', 'on_thyroxine', 'query_on_thyroxine',\n",
       "        'on_antithyroid_meds', 'sick', 'pregnant', 'thyroid_surgery',\n",
       "        'I131_treatment', 'query_hypothyroid', 'query_hyperthyroid', 'lithium',\n",
       "        'goitre', 'tumor', 'hypopituitary', 'psych', 'TSH_measured', 'TSH',\n",
       "        'T3_measured', 'T3', 'TT4_measured', 'TT4', 'T4U_measured', 'T4U',\n",
       "        'FTI_measured', 'FTI', 'TBG_measured', 'TBG', 'referral_source',\n",
       "        'target'],\n",
       "       dtype='object'))"
      ]
     },
     "execution_count": 22,
     "metadata": {},
     "output_type": "execute_result"
    }
   ],
   "source": [
    "dfT.shape, dfT.columns"
   ]
  },
  {
   "cell_type": "code",
   "execution_count": 67,
   "id": "ddd56a65",
   "metadata": {},
   "outputs": [
    {
     "data": {
      "text/plain": [
       "array([[29, 'F', 'f', ..., 'f', nan, 'other'],\n",
       "       [29, 'F', 'f', ..., 'f', nan, 'other'],\n",
       "       [41, 'F', 'f', ..., 't', 11.0, 'other'],\n",
       "       ...,\n",
       "       [69, 'M', 'f', ..., 'f', nan, 'SVI'],\n",
       "       [47, 'F', 'f', ..., 'f', nan, 'other'],\n",
       "       [31, 'M', 'f', ..., 'f', nan, 'other']], dtype=object)"
      ]
     },
     "execution_count": 67,
     "metadata": {},
     "output_type": "execute_result"
    }
   ],
   "source": [
    "X = dfT.iloc[:, 0:29].values\n",
    "X"
   ]
  },
  {
   "cell_type": "code",
   "execution_count": 24,
   "id": "f0156037",
   "metadata": {},
   "outputs": [
    {
     "data": {
      "text/plain": [
       "(9172, 29)"
      ]
     },
     "execution_count": 24,
     "metadata": {},
     "output_type": "execute_result"
    }
   ],
   "source": [
    "X.shape"
   ]
  },
  {
   "cell_type": "code",
   "execution_count": 25,
   "id": "952a8a0a",
   "metadata": {},
   "outputs": [
    {
     "data": {
      "text/plain": [
       "array(['-', '-', '-', ..., 'I', '-', '-'], dtype=object)"
      ]
     },
     "execution_count": 25,
     "metadata": {},
     "output_type": "execute_result"
    }
   ],
   "source": [
    "dfT['target'].values"
   ]
  },
  {
   "cell_type": "code",
   "execution_count": 26,
   "id": "a4cf53d9",
   "metadata": {},
   "outputs": [],
   "source": [
    "## Label Enconder para tratamento de variáveis categóricas\n",
    "from sklearn.preprocessing import LabelEncoder"
   ]
  },
  {
   "cell_type": "code",
   "execution_count": 27,
   "id": "bcacc957",
   "metadata": {},
   "outputs": [],
   "source": [
    "# Tratando os atributos categóricos\n",
    "\n",
    "label_enconder_sex = LabelEncoder()\n",
    "label_encoder_on_thyroxine = LabelEncoder()\n",
    "label_encoder_query_on_thyroxine = LabelEncoder()\n",
    "label_encoder_on_antithyroid_meds = LabelEncoder()\n",
    "label_encoder_sick = LabelEncoder()\n",
    "label_encoder_pregnant = LabelEncoder()\n",
    "label_encoder_thyroid_surgery = LabelEncoder()\n",
    "label_encoder_I131_treatment = LabelEncoder()\n",
    "label_encoder_query_hypothyroid = LabelEncoder()\n",
    "label_encoder_query_hyperthyroid = LabelEncoder()\n",
    "label_encoder_lithium = LabelEncoder()\n",
    "label_encoder_goitre = LabelEncoder()\n",
    "label_encoder_tumor = LabelEncoder()\n",
    "label_encoder_hypopituitary = LabelEncoder()\n",
    "label_encoder_psych = LabelEncoder()\n",
    "label_encoder_TSH_measured = LabelEncoder()\n",
    "label_encoder_TSH = LabelEncoder()\n",
    "label_encoder_T3_measured = LabelEncoder()\n",
    "label_encoder_T3 = LabelEncoder()\n",
    "label_encoder_TT4_measured = LabelEncoder()\n",
    "# label_encoder_T4U_measured = LabelEncoder() ## int\n",
    "label_encoder_FTI_measured = LabelEncoder()\n",
    "# label_encoder_FTI = LabelEncoder() ## int\n",
    "label_encoder_TBG_measured = LabelEncoder()\n",
    "# label_encoder_TBG = LabelEncoder() ## int\n",
    "label_encoder_referral_source = LabelEncoder()\n",
    "label_encoder_target = LabelEncoder()\n",
    "\n",
    "X[:,1] = label_enconder_sex.fit_transform(X[:,1])\n",
    "X[:,3] = label_encoder_on_thyroxine.fit_transform(X[:,3])\n",
    "X[:,5] = label_encoder_query_on_thyroxine.fit_transform(X[:,5])\n",
    "X[:,6] = label_encoder_on_antithyroid_meds.fit_transform(X[:,6])\n",
    "X[:,7] = label_encoder_sick.fit_transform(X[:,7])\n",
    "X[:,8] = label_encoder_pregnant.fit_transform(X[:,8])\n",
    "X[:,9] = label_encoder_thyroid_surgery.fit_transform(X[:,9])\n",
    "X[:,13] = label_encoder_I131_treatment.fit_transform(X[:,13])\n",
    "X[:,14] = label_encoder_query_hypothyroid.fit_transform(X[:,14])\n",
    "X[:,15] = label_encoder_query_hyperthyroid.fit_transform(X[:,15])\n",
    "X[:,16] = label_encoder_lithium.fit_transform(X[:,16])\n",
    "X[:,17] = label_encoder_goitre.fit_transform(X[:,17])\n",
    "X[:,18] = label_encoder_tumor.fit_transform(X[:,18])\n",
    "X[:,19] = label_encoder_hypopituitary.fit_transform(X[:,19])\n",
    "X[:,20] = label_encoder_psych.fit_transform(X[:,20])\n",
    "X[:,21]= label_encoder_TSH_measured.fit_transform(X[:,21])\n",
    "X[:,22]= label_encoder_TSH.fit_transform(X[:,22])\n",
    "X[:,23] = label_encoder_T3_measured.fit_transform(X[:,23])\n",
    "X[:,24]= label_encoder_T3.fit_transform(X[:,24])\n",
    "X[:,25]= label_encoder_TT4_measured.fit_transform(X[:,25])\n",
    "X[:,26]=label_encoder_FTI_measured.fit_transform(X[:,26])\n",
    "X[:,27]= label_encoder_TBG_measured.fit_transform(X[:,27])\n",
    "X[:,28]= label_encoder_referral_source.fit_transform(X[:,28])\n",
    "#y[:,29] = label_encoder_target.fit_transform(y[:,29])"
   ]
  },
  {
   "cell_type": "code",
   "execution_count": 29,
   "id": "17cc922c",
   "metadata": {},
   "outputs": [
    {
     "data": {
      "text/plain": [
       "array(['-', '-', '-', ..., 'I', '-', '-'], dtype=object)"
      ]
     },
     "execution_count": 29,
     "metadata": {},
     "output_type": "execute_result"
    }
   ],
   "source": [
    "y = dfT.iloc[:, 29].values\n",
    "y"
   ]
  },
  {
   "cell_type": "code",
   "execution_count": 30,
   "id": "92ae4bee",
   "metadata": {},
   "outputs": [
    {
     "data": {
      "text/html": [
       "<div>\n",
       "<style scoped>\n",
       "    .dataframe tbody tr th:only-of-type {\n",
       "        vertical-align: middle;\n",
       "    }\n",
       "\n",
       "    .dataframe tbody tr th {\n",
       "        vertical-align: top;\n",
       "    }\n",
       "\n",
       "    .dataframe thead th {\n",
       "        text-align: right;\n",
       "    }\n",
       "</style>\n",
       "<table border=\"1\" class=\"dataframe\">\n",
       "  <thead>\n",
       "    <tr style=\"text-align: right;\">\n",
       "      <th></th>\n",
       "      <th>age</th>\n",
       "      <th>TSH</th>\n",
       "      <th>T3</th>\n",
       "      <th>TT4</th>\n",
       "      <th>T4U</th>\n",
       "      <th>FTI</th>\n",
       "      <th>TBG</th>\n",
       "    </tr>\n",
       "  </thead>\n",
       "  <tbody>\n",
       "    <tr>\n",
       "      <th>count</th>\n",
       "      <td>9172.000000</td>\n",
       "      <td>8330.000000</td>\n",
       "      <td>6568.000000</td>\n",
       "      <td>8730.000000</td>\n",
       "      <td>8363.000000</td>\n",
       "      <td>8370.000000</td>\n",
       "      <td>349.000000</td>\n",
       "    </tr>\n",
       "    <tr>\n",
       "      <th>mean</th>\n",
       "      <td>73.555822</td>\n",
       "      <td>5.218403</td>\n",
       "      <td>1.970629</td>\n",
       "      <td>108.700305</td>\n",
       "      <td>0.976056</td>\n",
       "      <td>113.640746</td>\n",
       "      <td>29.870057</td>\n",
       "    </tr>\n",
       "    <tr>\n",
       "      <th>std</th>\n",
       "      <td>1183.976718</td>\n",
       "      <td>24.184006</td>\n",
       "      <td>0.887579</td>\n",
       "      <td>37.522670</td>\n",
       "      <td>0.200360</td>\n",
       "      <td>41.551650</td>\n",
       "      <td>21.080504</td>\n",
       "    </tr>\n",
       "    <tr>\n",
       "      <th>min</th>\n",
       "      <td>1.000000</td>\n",
       "      <td>0.005000</td>\n",
       "      <td>0.050000</td>\n",
       "      <td>2.000000</td>\n",
       "      <td>0.170000</td>\n",
       "      <td>1.400000</td>\n",
       "      <td>0.100000</td>\n",
       "    </tr>\n",
       "    <tr>\n",
       "      <th>25%</th>\n",
       "      <td>37.000000</td>\n",
       "      <td>0.460000</td>\n",
       "      <td>1.500000</td>\n",
       "      <td>87.000000</td>\n",
       "      <td>0.860000</td>\n",
       "      <td>93.000000</td>\n",
       "      <td>21.000000</td>\n",
       "    </tr>\n",
       "    <tr>\n",
       "      <th>50%</th>\n",
       "      <td>55.000000</td>\n",
       "      <td>1.400000</td>\n",
       "      <td>1.900000</td>\n",
       "      <td>104.000000</td>\n",
       "      <td>0.960000</td>\n",
       "      <td>109.000000</td>\n",
       "      <td>26.000000</td>\n",
       "    </tr>\n",
       "    <tr>\n",
       "      <th>75%</th>\n",
       "      <td>68.000000</td>\n",
       "      <td>2.700000</td>\n",
       "      <td>2.300000</td>\n",
       "      <td>126.000000</td>\n",
       "      <td>1.065000</td>\n",
       "      <td>128.000000</td>\n",
       "      <td>31.000000</td>\n",
       "    </tr>\n",
       "    <tr>\n",
       "      <th>max</th>\n",
       "      <td>65526.000000</td>\n",
       "      <td>530.000000</td>\n",
       "      <td>18.000000</td>\n",
       "      <td>600.000000</td>\n",
       "      <td>2.330000</td>\n",
       "      <td>881.000000</td>\n",
       "      <td>200.000000</td>\n",
       "    </tr>\n",
       "  </tbody>\n",
       "</table>\n",
       "</div>"
      ],
      "text/plain": [
       "                age          TSH           T3          TT4          T4U  \\\n",
       "count   9172.000000  8330.000000  6568.000000  8730.000000  8363.000000   \n",
       "mean      73.555822     5.218403     1.970629   108.700305     0.976056   \n",
       "std     1183.976718    24.184006     0.887579    37.522670     0.200360   \n",
       "min        1.000000     0.005000     0.050000     2.000000     0.170000   \n",
       "25%       37.000000     0.460000     1.500000    87.000000     0.860000   \n",
       "50%       55.000000     1.400000     1.900000   104.000000     0.960000   \n",
       "75%       68.000000     2.700000     2.300000   126.000000     1.065000   \n",
       "max    65526.000000   530.000000    18.000000   600.000000     2.330000   \n",
       "\n",
       "               FTI         TBG  \n",
       "count  8370.000000  349.000000  \n",
       "mean    113.640746   29.870057  \n",
       "std      41.551650   21.080504  \n",
       "min       1.400000    0.100000  \n",
       "25%      93.000000   21.000000  \n",
       "50%     109.000000   26.000000  \n",
       "75%     128.000000   31.000000  \n",
       "max     881.000000  200.000000  "
      ]
     },
     "execution_count": 30,
     "metadata": {},
     "output_type": "execute_result"
    }
   ],
   "source": [
    "dfT.describe()"
   ]
  },
  {
   "cell_type": "code",
   "execution_count": 53,
   "id": "8786792f",
   "metadata": {},
   "outputs": [
    {
     "data": {
      "image/png": "[encoded data removed]",
      "text/plain": [
       "<Figure size 468x468 with 1 Axes>"
      ]
     },
     "metadata": {
      "needs_background": "light"
     },
     "output_type": "display_data"
    }
   ],
   "source": [
    "f, ax = plt.subplots(figsize=(6.5, 6.5))\n",
    "sns.scatterplot(data=dfT, x='age', y='TSH', s=5);"
   ]
  }
 ],
 "metadata": {
  "kernelspec": {
   "display_name": "Python 3 (ipykernel)",
   "language": "python",
   "name": "python3"
  },
  "language_info": {
   "codemirror_mode": {
    "name": "ipython",
    "version": 3
   },
   "file_extension": ".py",
   "mimetype": "text/x-python",
   "name": "python",
   "nbconvert_exporter": "python",
   "pygments_lexer": "ipython3",
   "version": "3.9.12"
  }
 },
 "nbformat": 4,
 "nbformat_minor": 5
}
